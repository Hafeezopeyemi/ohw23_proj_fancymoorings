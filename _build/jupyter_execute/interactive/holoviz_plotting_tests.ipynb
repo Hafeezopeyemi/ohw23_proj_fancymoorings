{
 "cells": [
  {
   "cell_type": "markdown",
   "id": "ab23ab7d-347c-4968-9168-5a3c8a901533",
   "metadata": {},
   "source": [
    "holoviz plotting - shrinking the time range"
   ]
  },
  {
   "cell_type": "code",
   "execution_count": 1,
   "id": "c69ea8a8-7e25-4058-a147-ea26bd48e842",
   "metadata": {
    "tags": []
   },
   "outputs": [],
   "source": [
    "import erddapy\n",
    "from erddapy import ERDDAP\n",
    "import numpy as np\n",
    "import pandas as pd\n",
    "import xarray as xr\n",
    "import cf_xarray as cfxr\n",
    "import datetime\n",
    "import netCDF4\n",
    "from netCDF4 import Dataset\n",
    "\n",
    "import matplotlib\n",
    "from matplotlib import pyplot as plt\n",
    "\n",
    "import pathlib\n",
    "\n",
    "import holoviews as hv\n",
    "import hvplot.pandas # noqa\n",
    "import hvplot.xarray\n",
    "import panel as pn\n",
    "\n",
    "\n",
    "pn.extension(template='fast')"
   ]
  },
  {
   "cell_type": "code",
   "execution_count": 3,
   "id": "ec619abf-30e3-4658-a8d0-541d19ded668",
   "metadata": {
    "tags": []
   },
   "outputs": [],
   "source": [
    "def get_erddap_data(erddap_url, dataset, data_protocol=\"griddap\", variables=None, constraints=None):\n",
    "    \"\"\"\n",
    "    Function: get_erddap_data\n",
    "    This function uses the erddapy python library to access data from ERDDAP servers,\n",
    "    and to return it to users in convenient formats for python users.\n",
    "    Data can be pulled from \"tabledap\" or \"griddap\" formats, with different\n",
    "    output types, depending on the dap type.\n",
    "    \n",
    "    Inputs:\n",
    "    erddap_url    - The url address of the erddap server to pull data from\n",
    "    variables     - The selected variables within the dataset.\n",
    "    data_protocol - The erddap data protocol for the chosen dataset.\n",
    "                    Options include \"tabledap\" or \"griddap\"\n",
    "                    The default option is given as \"griddap\"\n",
    "    dataset       - The ID for the relevant dataset on the erddap server\n",
    "                    If no variables are given, it is assumed that all variables\n",
    "                    will be pulled.\n",
    "    constraints   - These are set by the user to help restrict the data pull\n",
    "                    to only the area and timeframe of interest.\n",
    "                    If no constraints are given, all data in a dataset is pulled.\n",
    "                    Constraints should be given as a dictionary, where\n",
    "                    each entry is a bound and/or selection of a specific axis variable\n",
    "                    Exs. {\"longitude<=\": \"min(longitude)+10\", \"longitude>=\": \"0\"}\n",
    "                         {\"longitude=\": \"140\", \"time>=\": \"max(time)-30\"}\n",
    "    \n",
    "    Outputs:\n",
    "    erddap_data   - This variable contains the pulled data from the erddap server.\n",
    "                    If the data_protocol is \"griddap\",  then erddap_data is an xarray dataset\n",
    "                    If the data_protocol is \"tabledap\", then erddap_data is a pandas dataframe\n",
    "    \"\"\"\n",
    "    \n",
    "    import erddapy\n",
    "    from erddapy import ERDDAP\n",
    "    import pandas as pd\n",
    "    import xarray\n",
    "    \n",
    "    \n",
    "    ############################################\n",
    "    # Set-up the connection to the ERDDAP server\n",
    "    ############################################\n",
    "    \n",
    "    # Connect to the erddap server\n",
    "    e = ERDDAP(server=erddap_url, protocol=data_protocol, response='csv')\n",
    "    \n",
    "    # Identify the dataset of interest\n",
    "    e.dataset_id = dataset\n",
    "    \n",
    "    \n",
    "    #########################################\n",
    "    # Pull the data, based upon protocol type\n",
    "    #########################################\n",
    "    \n",
    "    # GRIDDAP Protocol\n",
    "    if data_protocol == \"griddap\":\n",
    "        \n",
    "        # Initialize the connection\n",
    "        e.griddap_initialize()\n",
    "\n",
    "        # Update the constraints\n",
    "        if constraints is not None:\n",
    "            e.constraints.update(constraints)\n",
    "            e.griddap_initialize()\n",
    "            \n",
    "        # Update the selection of the variables\n",
    "        if variables is not None:\n",
    "            e.variables = variables\n",
    "\n",
    "        erddap_data = e.to_xarray()\n",
    "    \n",
    "    # TABLEDAP Protocol\n",
    "    elif data_protocol == \"tabledap\":\n",
    "\n",
    "        # Update the constraints\n",
    "        if constraints is not None:\n",
    "            e.constraints = constraints\n",
    "            \n",
    "        # Update the selection of the variables\n",
    "        if variables is not None:\n",
    "            e.variables = variables\n",
    "            \n",
    "        erddap_data = e.to_pandas()\n",
    "    \n",
    "    # Invalid protocol given\n",
    "    else:\n",
    "        print('Invalid ERDDAP protocol. Given protocol is: ' + data_protocol)\n",
    "        print('Valid protocols include \"griddap\" or \"tabledap\". Please restart and try again with a valid protocol')\n",
    "        erddap_data = None\n",
    "    \n",
    "    \n",
    "    #############################\n",
    "    return erddap_data"
   ]
  },
  {
   "cell_type": "code",
   "execution_count": 4,
   "id": "84294870-a539-4905-8634-b8d71877b617",
   "metadata": {
    "tags": []
   },
   "outputs": [],
   "source": [
    "def datetime_to_ordinal_withseconds(x):\n",
    "    \"\"\"\n",
    "    Converts a datetime object to an ordinal number, \n",
    "    taking into account both the date and time parts of the input.\n",
    "    The resulting ordinal number represents the number of days \n",
    "    since January 1, 1 AD, at 12:00 AM, \n",
    "    plus a fractional portion representing the time part of the input.\n",
    "    \"\"\"\n",
    "    # Import libraries\n",
    "    import numpy as np\n",
    "    import pandas as pd\n",
    "    import datetime\n",
    "\n",
    "    # Extract year, month, day, hour, minute, \n",
    "    # and second components from input datetime object\n",
    "    year = x.year\n",
    "    month = x.month\n",
    "    day = x.day\n",
    "    hour = x.hour\n",
    "    minute = x.minute\n",
    "    second = x.second\n",
    "\n",
    "    # Create a new datetime object using the \n",
    "    # extracted year, month, and day components\n",
    "    date_obj = datetime.datetime(year, month, day)\n",
    "\n",
    "    # Get the ordinal number of the date\n",
    "    date_ordinal = datetime.datetime.toordinal(date_obj)\n",
    "\n",
    "    # Calculate the partial ordinal number for the time part of the input\n",
    "    date_partial = (hour + (minute + (second / 60)) / 60) / 24\n",
    "\n",
    "    # Combine the date and time ordinal numbers\n",
    "    x_ordinal = date_ordinal + date_partial\n",
    "\n",
    "    # Return the final ordinal number\n",
    "    return x_ordinal"
   ]
  },
  {
   "cell_type": "code",
   "execution_count": 77,
   "id": "2da6d7e2-c858-4636-bd8b-1bfe5a704b29",
   "metadata": {
    "tags": []
   },
   "outputs": [],
   "source": [
    "nwem_url = 'http://nwem.apl.washington.edu/erddap'\n",
    "\n",
    "nwem_dataset = 'orca3_L3_depthgridded_025'\n",
    "\n",
    "variables = [\"sea_water_temperature\",\n",
    "             \"sea_water_practical_salinity\",\n",
    "             \"mass_concentration_of_oxygen_in_sea_water\"]\n",
    "\n",
    "constraints = {\"cast_start_time>=\":datetime.datetime(2010,1,1).strftime('%Y-%m-%dT%H:%M:%SZ')}\n",
    "#constraints = {\"cast_start_time>=\": \"max(cast_start_time)-365\"}\n",
    "\n",
    "nwem_grid = get_erddap_data(nwem_url, nwem_dataset, \n",
    "                variables=variables, \n",
    "                constraints=constraints,\n",
    "                data_protocol=\"griddap\")"
   ]
  },
  {
   "cell_type": "code",
   "execution_count": 78,
   "id": "544da9c4-d24c-4fe0-bf5f-f4d3f3246fe0",
   "metadata": {
    "tags": []
   },
   "outputs": [],
   "source": [
    "date_slider = pn.widgets.DateRangeSlider(name='Earliest Date', \n",
    "                                         start=datetime.datetime(2010,1,1), \n",
    "                                         end=datetime.datetime(2023,1,1), \n",
    "                                         value=(datetime.datetime(2015,1,1),datetime.datetime(2020,1,1))).servable(target='sidebar')"
   ]
  },
  {
   "cell_type": "code",
   "execution_count": 79,
   "id": "9fe66dfc-5245-4395-96cd-51ff3ae44e5d",
   "metadata": {
    "tags": []
   },
   "outputs": [],
   "source": [
    "nwem_interactive = nwem_grid.interactive()"
   ]
  },
  {
   "cell_type": "code",
   "execution_count": 182,
   "id": "49389887-c7e6-45db-89d2-039986ccce60",
   "metadata": {
    "tags": []
   },
   "outputs": [
    {
     "data": {},
     "metadata": {},
     "output_type": "display_data"
    },
    {
     "data": {
      "application/vnd.holoviews_exec.v0+json": "",
      "text/html": [
       "<div id='4e6c5c01-9f90-42f9-bad7-b5166fec05c4'>\n",
       "  <div id=\"c7ea6948-d633-4842-80c9-7dada9b6c88e\" data-root-id=\"4e6c5c01-9f90-42f9-bad7-b5166fec05c4\" style=\"display: contents;\"></div>\n",
       "</div>\n",
       "<script type=\"application/javascript\">(function(root) {\n",
       "  var docs_json = {\"1b9e9ebd-4fd8-4c33-92f6-09215b627c07\":{\"version\":\"3.2.1\",\"title\":\"Bokeh Application\",\"roots\":[{\"type\":\"object\",\"name\":\"Row\",\"id\":\"4e6c5c01-9f90-42f9-bad7-b5166fec05c4\",\"attributes\":{\"name\":\"Row32290\",\"stylesheets\":[\"\\n:host(.pn-loading.pn-arc):before, .pn-loading.pn-arc:before {\\n  background-image: url(\\\"data:image/svg+xml;base64,PHN2ZyB4bWxucz0iaHR0cDovL3d3dy53My5vcmcvMjAwMC9zdmciIHN0eWxlPSJtYXJnaW46IGF1dG87IGJhY2tncm91bmQ6IG5vbmU7IGRpc3BsYXk6IGJsb2NrOyBzaGFwZS1yZW5kZXJpbmc6IGF1dG87IiB2aWV3Qm94PSIwIDAgMTAwIDEwMCIgcHJlc2VydmVBc3BlY3RSYXRpbz0ieE1pZFlNaWQiPiAgPGNpcmNsZSBjeD0iNTAiIGN5PSI1MCIgZmlsbD0ibm9uZSIgc3Ryb2tlPSIjYzNjM2MzIiBzdHJva2Utd2lkdGg9IjEwIiByPSIzNSIgc3Ryb2tlLWRhc2hhcnJheT0iMTY0LjkzMzYxNDMxMzQ2NDE1IDU2Ljk3Nzg3MTQzNzgyMTM4Ij4gICAgPGFuaW1hdGVUcmFuc2Zvcm0gYXR0cmlidXRlTmFtZT0idHJhbnNmb3JtIiB0eXBlPSJyb3RhdGUiIHJlcGVhdENvdW50PSJpbmRlZmluaXRlIiBkdXI9IjFzIiB2YWx1ZXM9IjAgNTAgNTA7MzYwIDUwIDUwIiBrZXlUaW1lcz0iMDsxIj48L2FuaW1hdGVUcmFuc2Zvcm0+ICA8L2NpcmNsZT48L3N2Zz4=\\\");\\n  background-size: auto calc(min(50%, 400px));\\n}\",{\"type\":\"object\",\"name\":\"ImportedStyleSheet\",\"id\":\"403297a0-58ba-4a1e-a56d-427da9c63449\",\"attributes\":{\"url\":\"https://cdn.holoviz.org/panel/1.2.1/dist/css/loading.css\"}},{\"type\":\"object\",\"name\":\"ImportedStyleSheet\",\"id\":\"81300992-16d2-479c-8e4b-5d7b8048a8eb\",\"attributes\":{\"url\":\"https://cdn.holoviz.org/panel/1.2.1/dist/css/listpanel.css\"}},{\"type\":\"object\",\"name\":\"ImportedStyleSheet\",\"id\":\"5bbabbff-2550-459e-ba14-7fc3674d72ab\",\"attributes\":{\"url\":\"https://cdn.holoviz.org/panel/1.2.1/dist/bundled/theme/default.css\"}},{\"type\":\"object\",\"name\":\"ImportedStyleSheet\",\"id\":\"f042ca10-0f56-47d0-b54b-4eb4b98c09a1\",\"attributes\":{\"url\":\"https://cdn.holoviz.org/panel/1.2.1/dist/bundled/theme/native.css\"}}],\"margin\":0,\"align\":\"start\",\"children\":[{\"type\":\"object\",\"name\":\"Column\",\"id\":\"ff4f1e92-3a79-4281-bcc0-8958901db253\",\"attributes\":{\"name\":\"Column32275\",\"stylesheets\":[\"\\n:host(.pn-loading.pn-arc):before, .pn-loading.pn-arc:before {\\n  background-image: url(\\\"data:image/svg+xml;base64,PHN2ZyB4bWxucz0iaHR0cDovL3d3dy53My5vcmcvMjAwMC9zdmciIHN0eWxlPSJtYXJnaW46IGF1dG87IGJhY2tncm91bmQ6IG5vbmU7IGRpc3BsYXk6IGJsb2NrOyBzaGFwZS1yZW5kZXJpbmc6IGF1dG87IiB2aWV3Qm94PSIwIDAgMTAwIDEwMCIgcHJlc2VydmVBc3BlY3RSYXRpbz0ieE1pZFlNaWQiPiAgPGNpcmNsZSBjeD0iNTAiIGN5PSI1MCIgZmlsbD0ibm9uZSIgc3Ryb2tlPSIjYzNjM2MzIiBzdHJva2Utd2lkdGg9IjEwIiByPSIzNSIgc3Ryb2tlLWRhc2hhcnJheT0iMTY0LjkzMzYxNDMxMzQ2NDE1IDU2Ljk3Nzg3MTQzNzgyMTM4Ij4gICAgPGFuaW1hdGVUcmFuc2Zvcm0gYXR0cmlidXRlTmFtZT0idHJhbnNmb3JtIiB0eXBlPSJyb3RhdGUiIHJlcGVhdENvdW50PSJpbmRlZmluaXRlIiBkdXI9IjFzIiB2YWx1ZXM9IjAgNTAgNTA7MzYwIDUwIDUwIiBrZXlUaW1lcz0iMDsxIj48L2FuaW1hdGVUcmFuc2Zvcm0+ICA8L2NpcmNsZT48L3N2Zz4=\\\");\\n  background-size: auto calc(min(50%, 400px));\\n}\",{\"id\":\"403297a0-58ba-4a1e-a56d-427da9c63449\"},{\"id\":\"81300992-16d2-479c-8e4b-5d7b8048a8eb\"},{\"id\":\"5bbabbff-2550-459e-ba14-7fc3674d72ab\"},{\"id\":\"f042ca10-0f56-47d0-b54b-4eb4b98c09a1\"}],\"margin\":0,\"align\":\"start\",\"children\":[{\"type\":\"object\",\"name\":\"Column\",\"id\":\"e31526c0-f2f0-47d4-b538-a34d07a61c86\",\"attributes\":{\"name\":\"Column32287\",\"stylesheets\":[\"\\n:host(.pn-loading.pn-arc):before, .pn-loading.pn-arc:before {\\n  background-image: url(\\\"data:image/svg+xml;base64,PHN2ZyB4bWxucz0iaHR0cDovL3d3dy53My5vcmcvMjAwMC9zdmciIHN0eWxlPSJtYXJnaW46IGF1dG87IGJhY2tncm91bmQ6IG5vbmU7IGRpc3BsYXk6IGJsb2NrOyBzaGFwZS1yZW5kZXJpbmc6IGF1dG87IiB2aWV3Qm94PSIwIDAgMTAwIDEwMCIgcHJlc2VydmVBc3BlY3RSYXRpbz0ieE1pZFlNaWQiPiAgPGNpcmNsZSBjeD0iNTAiIGN5PSI1MCIgZmlsbD0ibm9uZSIgc3Ryb2tlPSIjYzNjM2MzIiBzdHJva2Utd2lkdGg9IjEwIiByPSIzNSIgc3Ryb2tlLWRhc2hhcnJheT0iMTY0LjkzMzYxNDMxMzQ2NDE1IDU2Ljk3Nzg3MTQzNzgyMTM4Ij4gICAgPGFuaW1hdGVUcmFuc2Zvcm0gYXR0cmlidXRlTmFtZT0idHJhbnNmb3JtIiB0eXBlPSJyb3RhdGUiIHJlcGVhdENvdW50PSJpbmRlZmluaXRlIiBkdXI9IjFzIiB2YWx1ZXM9IjAgNTAgNTA7MzYwIDUwIDUwIiBrZXlUaW1lcz0iMDsxIj48L2FuaW1hdGVUcmFuc2Zvcm0+ICA8L2NpcmNsZT48L3N2Zz4=\\\");\\n  background-size: auto calc(min(50%, 400px));\\n}\",{\"id\":\"403297a0-58ba-4a1e-a56d-427da9c63449\"},{\"id\":\"81300992-16d2-479c-8e4b-5d7b8048a8eb\"},{\"id\":\"5bbabbff-2550-459e-ba14-7fc3674d72ab\"},{\"id\":\"f042ca10-0f56-47d0-b54b-4eb4b98c09a1\"}],\"margin\":0,\"align\":\"start\"}},{\"type\":\"object\",\"name\":\"Row\",\"id\":\"7e3344a9-6bbe-4dca-aaff-dad40f3782e8\",\"attributes\":{\"name\":\"Row32284\",\"stylesheets\":[\"\\n:host(.pn-loading.pn-arc):before, .pn-loading.pn-arc:before {\\n  background-image: url(\\\"data:image/svg+xml;base64,PHN2ZyB4bWxucz0iaHR0cDovL3d3dy53My5vcmcvMjAwMC9zdmciIHN0eWxlPSJtYXJnaW46IGF1dG87IGJhY2tncm91bmQ6IG5vbmU7IGRpc3BsYXk6IGJsb2NrOyBzaGFwZS1yZW5kZXJpbmc6IGF1dG87IiB2aWV3Qm94PSIwIDAgMTAwIDEwMCIgcHJlc2VydmVBc3BlY3RSYXRpbz0ieE1pZFlNaWQiPiAgPGNpcmNsZSBjeD0iNTAiIGN5PSI1MCIgZmlsbD0ibm9uZSIgc3Ryb2tlPSIjYzNjM2MzIiBzdHJva2Utd2lkdGg9IjEwIiByPSIzNSIgc3Ryb2tlLWRhc2hhcnJheT0iMTY0LjkzMzYxNDMxMzQ2NDE1IDU2Ljk3Nzg3MTQzNzgyMTM4Ij4gICAgPGFuaW1hdGVUcmFuc2Zvcm0gYXR0cmlidXRlTmFtZT0idHJhbnNmb3JtIiB0eXBlPSJyb3RhdGUiIHJlcGVhdENvdW50PSJpbmRlZmluaXRlIiBkdXI9IjFzIiB2YWx1ZXM9IjAgNTAgNTA7MzYwIDUwIDUwIiBrZXlUaW1lcz0iMDsxIj48L2FuaW1hdGVUcmFuc2Zvcm0+ICA8L2NpcmNsZT48L3N2Zz4=\\\");\\n  background-size: auto calc(min(50%, 400px));\\n}\",{\"id\":\"403297a0-58ba-4a1e-a56d-427da9c63449\"},{\"id\":\"81300992-16d2-479c-8e4b-5d7b8048a8eb\"},{\"id\":\"5bbabbff-2550-459e-ba14-7fc3674d72ab\"},{\"id\":\"f042ca10-0f56-47d0-b54b-4eb4b98c09a1\"}],\"margin\":0,\"align\":\"start\",\"children\":[{\"type\":\"object\",\"name\":\"panel.models.markup.HTML\",\"id\":\"88976625-1424-4ea8-bcae-845af71dbaa1\",\"attributes\":{\"stylesheets\":[\"\\n:host(.pn-loading.pn-arc):before, .pn-loading.pn-arc:before {\\n  background-image: url(\\\"data:image/svg+xml;base64,PHN2ZyB4bWxucz0iaHR0cDovL3d3dy53My5vcmcvMjAwMC9zdmciIHN0eWxlPSJtYXJnaW46IGF1dG87IGJhY2tncm91bmQ6IG5vbmU7IGRpc3BsYXk6IGJsb2NrOyBzaGFwZS1yZW5kZXJpbmc6IGF1dG87IiB2aWV3Qm94PSIwIDAgMTAwIDEwMCIgcHJlc2VydmVBc3BlY3RSYXRpbz0ieE1pZFlNaWQiPiAgPGNpcmNsZSBjeD0iNTAiIGN5PSI1MCIgZmlsbD0ibm9uZSIgc3Ryb2tlPSIjYzNjM2MzIiBzdHJva2Utd2lkdGg9IjEwIiByPSIzNSIgc3Ryb2tlLWRhc2hhcnJheT0iMTY0LjkzMzYxNDMxMzQ2NDE1IDU2Ljk3Nzg3MTQzNzgyMTM4Ij4gICAgPGFuaW1hdGVUcmFuc2Zvcm0gYXR0cmlidXRlTmFtZT0idHJhbnNmb3JtIiB0eXBlPSJyb3RhdGUiIHJlcGVhdENvdW50PSJpbmRlZmluaXRlIiBkdXI9IjFzIiB2YWx1ZXM9IjAgNTAgNTA7MzYwIDUwIDUwIiBrZXlUaW1lcz0iMDsxIj48L2FuaW1hdGVUcmFuc2Zvcm0+ICA8L2NpcmNsZT48L3N2Zz4=\\\");\\n  background-size: auto calc(min(50%, 400px));\\n}\",{\"id\":\"403297a0-58ba-4a1e-a56d-427da9c63449\"},{\"id\":\"5bbabbff-2550-459e-ba14-7fc3674d72ab\"},{\"id\":\"f042ca10-0f56-47d0-b54b-4eb4b98c09a1\"}],\"margin\":[5,10],\"align\":\"start\",\"text\":\"&lt;pre&gt;&lt;bound method Dataset.isel of &lt;xarray.Dataset&gt;\\nDimensions:                                    (cast_start_time: 7034,\\n                                                depth: 401)\\nCoordinates:\\n  * cast_start_time                            (cast_start_time) datetime64[ns] ...\\n  * depth                                      (depth) float64 0.0 ... 100.0\\nData variables:\\n    sea_water_temperature                      (cast_start_time, depth) float64 ...\\n    sea_water_practical_salinity               (cast_start_time, depth) float64 ...\\n    mass_concentration_of_oxygen_in_sea_water  (cast_start_time, depth) float64 ...\\nAttributes: (12/34)\\n    author:                        Seth Travis\\n    buoy_designation:              ORCA3\\n    buoy_latitude:                 47.90733333 degrees N\\n    buoy_longitude:                -122.627 degrees E\\n    buoy_name:                     Hansville\\n    buoy_reference_number:         3\\n    ...                            ...\\n    license:                       The data may be used and redistributed for...\\n    sourceUrl:                     (local files)\\n    standard_name_vocabulary:      CF Standard Name Table v70\\n    summary:                       The Northwest Environmental Moorings progr...\\n    title:                         ORCA3 - Northbuoy - L3 Depth Gridded Data ...\\n    water_depth:                   100 meters&gt;&lt;/pre&gt;\"}}]}}]}}]}},{\"type\":\"object\",\"name\":\"panel.models.comm_manager.CommManager\",\"id\":\"8d201228-3ed5-446b-849a-283c618d00ed\",\"attributes\":{\"plot_id\":\"4e6c5c01-9f90-42f9-bad7-b5166fec05c4\",\"comm_id\":\"3cffc3224db646ef8e4912e2b767ccae\",\"client_comm_id\":\"cf6d87a1b4fa4998961a7519d5422ce2\"}},{\"type\":\"object\",\"name\":\"panel.models.location.Location\",\"id\":\"76f4c3ca-71a8-4c5a-80da-6e66aad06099\",\"attributes\":{\"reload\":false}}],\"defs\":[{\"type\":\"model\",\"name\":\"ReactiveHTML1\"},{\"type\":\"model\",\"name\":\"FlexBox1\",\"properties\":[{\"name\":\"align_content\",\"kind\":\"Any\",\"default\":\"flex-start\"},{\"name\":\"align_items\",\"kind\":\"Any\",\"default\":\"flex-start\"},{\"name\":\"flex_direction\",\"kind\":\"Any\",\"default\":\"row\"},{\"name\":\"flex_wrap\",\"kind\":\"Any\",\"default\":\"wrap\"},{\"name\":\"justify_content\",\"kind\":\"Any\",\"default\":\"flex-start\"}]},{\"type\":\"model\",\"name\":\"FloatPanel1\",\"properties\":[{\"name\":\"config\",\"kind\":\"Any\",\"default\":{\"type\":\"map\"}},{\"name\":\"contained\",\"kind\":\"Any\",\"default\":true},{\"name\":\"position\",\"kind\":\"Any\",\"default\":\"right-top\"},{\"name\":\"offsetx\",\"kind\":\"Any\",\"default\":null},{\"name\":\"offsety\",\"kind\":\"Any\",\"default\":null},{\"name\":\"theme\",\"kind\":\"Any\",\"default\":\"primary\"},{\"name\":\"status\",\"kind\":\"Any\",\"default\":\"normalized\"}]},{\"type\":\"model\",\"name\":\"GridStack1\",\"properties\":[{\"name\":\"mode\",\"kind\":\"Any\",\"default\":\"warn\"},{\"name\":\"ncols\",\"kind\":\"Any\",\"default\":null},{\"name\":\"nrows\",\"kind\":\"Any\",\"default\":null},{\"name\":\"allow_resize\",\"kind\":\"Any\",\"default\":true},{\"name\":\"allow_drag\",\"kind\":\"Any\",\"default\":true},{\"name\":\"state\",\"kind\":\"Any\",\"default\":[]}]},{\"type\":\"model\",\"name\":\"drag1\",\"properties\":[{\"name\":\"slider_width\",\"kind\":\"Any\",\"default\":5},{\"name\":\"slider_color\",\"kind\":\"Any\",\"default\":\"black\"},{\"name\":\"value\",\"kind\":\"Any\",\"default\":50}]},{\"type\":\"model\",\"name\":\"click1\",\"properties\":[{\"name\":\"terminal_output\",\"kind\":\"Any\",\"default\":\"\"},{\"name\":\"debug_name\",\"kind\":\"Any\",\"default\":\"\"},{\"name\":\"clears\",\"kind\":\"Any\",\"default\":0}]},{\"type\":\"model\",\"name\":\"FastWrapper1\",\"properties\":[{\"name\":\"object\",\"kind\":\"Any\",\"default\":null},{\"name\":\"style\",\"kind\":\"Any\",\"default\":null}]},{\"type\":\"model\",\"name\":\"NotificationAreaBase1\",\"properties\":[{\"name\":\"js_events\",\"kind\":\"Any\",\"default\":{\"type\":\"map\"}},{\"name\":\"position\",\"kind\":\"Any\",\"default\":\"bottom-right\"},{\"name\":\"_clear\",\"kind\":\"Any\",\"default\":0}]},{\"type\":\"model\",\"name\":\"NotificationArea1\",\"properties\":[{\"name\":\"js_events\",\"kind\":\"Any\",\"default\":{\"type\":\"map\"}},{\"name\":\"notifications\",\"kind\":\"Any\",\"default\":[]},{\"name\":\"position\",\"kind\":\"Any\",\"default\":\"bottom-right\"},{\"name\":\"_clear\",\"kind\":\"Any\",\"default\":0},{\"name\":\"types\",\"kind\":\"Any\",\"default\":[{\"type\":\"map\",\"entries\":[[\"type\",\"warning\"],[\"background\",\"#ffc107\"],[\"icon\",{\"type\":\"map\",\"entries\":[[\"className\",\"fas fa-exclamation-triangle\"],[\"tagName\",\"i\"],[\"color\",\"white\"]]}]]},{\"type\":\"map\",\"entries\":[[\"type\",\"info\"],[\"background\",\"#007bff\"],[\"icon\",{\"type\":\"map\",\"entries\":[[\"className\",\"fas fa-info-circle\"],[\"tagName\",\"i\"],[\"color\",\"white\"]]}]]}]}]},{\"type\":\"model\",\"name\":\"Notification\",\"properties\":[{\"name\":\"background\",\"kind\":\"Any\",\"default\":null},{\"name\":\"duration\",\"kind\":\"Any\",\"default\":3000},{\"name\":\"icon\",\"kind\":\"Any\",\"default\":null},{\"name\":\"message\",\"kind\":\"Any\",\"default\":\"\"},{\"name\":\"notification_type\",\"kind\":\"Any\",\"default\":null},{\"name\":\"_destroyed\",\"kind\":\"Any\",\"default\":false}]},{\"type\":\"model\",\"name\":\"TemplateActions1\",\"properties\":[{\"name\":\"open_modal\",\"kind\":\"Any\",\"default\":0},{\"name\":\"close_modal\",\"kind\":\"Any\",\"default\":0}]},{\"type\":\"model\",\"name\":\"BootstrapTemplateActions1\",\"properties\":[{\"name\":\"open_modal\",\"kind\":\"Any\",\"default\":0},{\"name\":\"close_modal\",\"kind\":\"Any\",\"default\":0}]},{\"type\":\"model\",\"name\":\"MaterialTemplateActions1\",\"properties\":[{\"name\":\"open_modal\",\"kind\":\"Any\",\"default\":0},{\"name\":\"close_modal\",\"kind\":\"Any\",\"default\":0}]}]}};\n",
       "  var render_items = [{\"docid\":\"1b9e9ebd-4fd8-4c33-92f6-09215b627c07\",\"roots\":{\"4e6c5c01-9f90-42f9-bad7-b5166fec05c4\":\"c7ea6948-d633-4842-80c9-7dada9b6c88e\"},\"root_ids\":[\"4e6c5c01-9f90-42f9-bad7-b5166fec05c4\"]}];\n",
       "  var docs = Object.values(docs_json)\n",
       "  if (!docs) {\n",
       "    return\n",
       "  }\n",
       "  const py_version = docs[0].version.replace('rc', '-rc.').replace('.dev', '-dev.')\n",
       "  const is_dev = py_version.indexOf(\"+\") !== -1 || py_version.indexOf(\"-\") !== -1\n",
       "  function embed_document(root) {\n",
       "    var Bokeh = get_bokeh(root)\n",
       "    Bokeh.embed.embed_items_notebook(docs_json, render_items);\n",
       "    for (const render_item of render_items) {\n",
       "      for (const root_id of render_item.root_ids) {\n",
       "\tconst id_el = document.getElementById(root_id)\n",
       "\tif (id_el.children.length && (id_el.children[0].className === 'bk-root')) {\n",
       "\t  const root_el = id_el.children[0]\n",
       "\t  root_el.id = root_el.id + '-rendered'\n",
       "\t}\n",
       "      }\n",
       "    }\n",
       "  }\n",
       "  function get_bokeh(root) {\n",
       "    if (root.Bokeh === undefined) {\n",
       "      return null\n",
       "    } else if (root.Bokeh.version !== py_version && !is_dev) {\n",
       "      if (root.Bokeh.versions === undefined || !root.Bokeh.versions.has(py_version)) {\n",
       "\treturn null\n",
       "      }\n",
       "      return root.Bokeh.versions.get(py_version);\n",
       "    } else if (root.Bokeh.version === py_version) {\n",
       "      return root.Bokeh\n",
       "    }\n",
       "    return null\n",
       "  }\n",
       "  function is_loaded(root) {\n",
       "    var Bokeh = get_bokeh(root)\n",
       "    return (Bokeh != null && Bokeh.Panel !== undefined)\n",
       "  }\n",
       "  if (is_loaded(root)) {\n",
       "    embed_document(root);\n",
       "  } else {\n",
       "    var attempts = 0;\n",
       "    var timer = setInterval(function(root) {\n",
       "      if (is_loaded(root)) {\n",
       "        clearInterval(timer);\n",
       "        embed_document(root);\n",
       "      } else if (document.readyState == \"complete\") {\n",
       "        attempts++;\n",
       "        if (attempts > 200) {\n",
       "          clearInterval(timer);\n",
       "\t  var Bokeh = get_bokeh(root)\n",
       "\t  if (Bokeh == null || Bokeh.Panel == null) {\n",
       "            console.warn(\"Panel: ERROR: Unable to run Panel code because Bokeh or Panel library is missing\");\n",
       "\t  } else {\n",
       "\t    console.warn(\"Panel: WARNING: Attempting to render but not all required libraries could be resolved.\")\n",
       "\t    embed_document(root)\n",
       "\t  }\n",
       "        }\n",
       "      }\n",
       "    }, 25, root)\n",
       "  }\n",
       "})(window);</script>"
      ],
      "text/plain": [
       "<hvplot.xarray.XArrayInteractive at 0x7f5a6828c0d0>"
      ]
     },
     "execution_count": 182,
     "metadata": {
      "application/vnd.holoviews_exec.v0+json": {
       "id": "4e6c5c01-9f90-42f9-bad7-b5166fec05c4"
      }
     },
     "output_type": "execute_result"
    }
   ],
   "source": [
    "nwem_interactive"
   ]
  },
  {
   "cell_type": "code",
   "execution_count": 191,
   "id": "9b5f047a-dcd0-42f8-80f0-72b3f6f258c3",
   "metadata": {
    "tags": []
   },
   "outputs": [
    {
     "data": {},
     "metadata": {},
     "output_type": "display_data"
    },
    {
     "data": {},
     "metadata": {},
     "output_type": "display_data"
    },
    {
     "data": {
      "application/vnd.holoviews_exec.v0+json": "",
      "text/html": [
       "<div id='c35674a6-d182-4856-a3f3-25cf7c8face1'>\n",
       "  <div id=\"df5a83f3-5ede-4b29-89c8-cad8e767cf0b\" data-root-id=\"c35674a6-d182-4856-a3f3-25cf7c8face1\" style=\"display: contents;\"></div>\n",
       "</div>\n",
       "<script type=\"application/javascript\">(function(root) {\n",
       "  var docs_json = {\"226fea2d-fa11-4c07-b0aa-20f6a2ef5766\":{\"version\":\"3.2.1\",\"title\":\"Bokeh Application\",\"roots\":[{\"type\":\"object\",\"name\":\"Row\",\"id\":\"c35674a6-d182-4856-a3f3-25cf7c8face1\",\"attributes\":{\"name\":\"Row39436\",\"stylesheets\":[\"\\n:host(.pn-loading.pn-arc):before, .pn-loading.pn-arc:before {\\n  background-image: url(\\\"data:image/svg+xml;base64,PHN2ZyB4bWxucz0iaHR0cDovL3d3dy53My5vcmcvMjAwMC9zdmciIHN0eWxlPSJtYXJnaW46IGF1dG87IGJhY2tncm91bmQ6IG5vbmU7IGRpc3BsYXk6IGJsb2NrOyBzaGFwZS1yZW5kZXJpbmc6IGF1dG87IiB2aWV3Qm94PSIwIDAgMTAwIDEwMCIgcHJlc2VydmVBc3BlY3RSYXRpbz0ieE1pZFlNaWQiPiAgPGNpcmNsZSBjeD0iNTAiIGN5PSI1MCIgZmlsbD0ibm9uZSIgc3Ryb2tlPSIjYzNjM2MzIiBzdHJva2Utd2lkdGg9IjEwIiByPSIzNSIgc3Ryb2tlLWRhc2hhcnJheT0iMTY0LjkzMzYxNDMxMzQ2NDE1IDU2Ljk3Nzg3MTQzNzgyMTM4Ij4gICAgPGFuaW1hdGVUcmFuc2Zvcm0gYXR0cmlidXRlTmFtZT0idHJhbnNmb3JtIiB0eXBlPSJyb3RhdGUiIHJlcGVhdENvdW50PSJpbmRlZmluaXRlIiBkdXI9IjFzIiB2YWx1ZXM9IjAgNTAgNTA7MzYwIDUwIDUwIiBrZXlUaW1lcz0iMDsxIj48L2FuaW1hdGVUcmFuc2Zvcm0+ICA8L2NpcmNsZT48L3N2Zz4=\\\");\\n  background-size: auto calc(min(50%, 400px));\\n}\",{\"type\":\"object\",\"name\":\"ImportedStyleSheet\",\"id\":\"fce22ece-8d15-4179-8df7-d086b920ff84\",\"attributes\":{\"url\":\"https://cdn.holoviz.org/panel/1.2.1/dist/css/loading.css\"}},{\"type\":\"object\",\"name\":\"ImportedStyleSheet\",\"id\":\"bb124531-9cd8-43a0-8c25-9624448229a1\",\"attributes\":{\"url\":\"https://cdn.holoviz.org/panel/1.2.1/dist/css/listpanel.css\"}},{\"type\":\"object\",\"name\":\"ImportedStyleSheet\",\"id\":\"9438fbac-2cbf-4a6c-a863-8d0b9e5ad16a\",\"attributes\":{\"url\":\"https://cdn.holoviz.org/panel/1.2.1/dist/bundled/theme/default.css\"}},{\"type\":\"object\",\"name\":\"ImportedStyleSheet\",\"id\":\"f627067b-9baf-4661-ae09-db05d0d144ac\",\"attributes\":{\"url\":\"https://cdn.holoviz.org/panel/1.2.1/dist/bundled/theme/native.css\"}}],\"margin\":0,\"align\":\"start\",\"children\":[{\"type\":\"object\",\"name\":\"Column\",\"id\":\"bda1e0c1-e7b3-4a95-81b3-b461cb002e70\",\"attributes\":{\"name\":\"Column39433\",\"stylesheets\":[\"\\n:host(.pn-loading.pn-arc):before, .pn-loading.pn-arc:before {\\n  background-image: url(\\\"data:image/svg+xml;base64,PHN2ZyB4bWxucz0iaHR0cDovL3d3dy53My5vcmcvMjAwMC9zdmciIHN0eWxlPSJtYXJnaW46IGF1dG87IGJhY2tncm91bmQ6IG5vbmU7IGRpc3BsYXk6IGJsb2NrOyBzaGFwZS1yZW5kZXJpbmc6IGF1dG87IiB2aWV3Qm94PSIwIDAgMTAwIDEwMCIgcHJlc2VydmVBc3BlY3RSYXRpbz0ieE1pZFlNaWQiPiAgPGNpcmNsZSBjeD0iNTAiIGN5PSI1MCIgZmlsbD0ibm9uZSIgc3Ryb2tlPSIjYzNjM2MzIiBzdHJva2Utd2lkdGg9IjEwIiByPSIzNSIgc3Ryb2tlLWRhc2hhcnJheT0iMTY0LjkzMzYxNDMxMzQ2NDE1IDU2Ljk3Nzg3MTQzNzgyMTM4Ij4gICAgPGFuaW1hdGVUcmFuc2Zvcm0gYXR0cmlidXRlTmFtZT0idHJhbnNmb3JtIiB0eXBlPSJyb3RhdGUiIHJlcGVhdENvdW50PSJpbmRlZmluaXRlIiBkdXI9IjFzIiB2YWx1ZXM9IjAgNTAgNTA7MzYwIDUwIDUwIiBrZXlUaW1lcz0iMDsxIj48L2FuaW1hdGVUcmFuc2Zvcm0+ICA8L2NpcmNsZT48L3N2Zz4=\\\");\\n  background-size: auto calc(min(50%, 400px));\\n}\",{\"id\":\"fce22ece-8d15-4179-8df7-d086b920ff84\"},{\"id\":\"bb124531-9cd8-43a0-8c25-9624448229a1\"},{\"id\":\"9438fbac-2cbf-4a6c-a863-8d0b9e5ad16a\"},{\"id\":\"f627067b-9baf-4661-ae09-db05d0d144ac\"}],\"margin\":0,\"align\":\"start\",\"children\":[{\"type\":\"object\",\"name\":\"Column\",\"id\":\"d785101f-8dbd-41bf-8ac6-a3903a6c727e\",\"attributes\":{\"name\":\"Column39416\",\"stylesheets\":[\"\\n:host(.pn-loading.pn-arc):before, .pn-loading.pn-arc:before {\\n  background-image: url(\\\"data:image/svg+xml;base64,PHN2ZyB4bWxucz0iaHR0cDovL3d3dy53My5vcmcvMjAwMC9zdmciIHN0eWxlPSJtYXJnaW46IGF1dG87IGJhY2tncm91bmQ6IG5vbmU7IGRpc3BsYXk6IGJsb2NrOyBzaGFwZS1yZW5kZXJpbmc6IGF1dG87IiB2aWV3Qm94PSIwIDAgMTAwIDEwMCIgcHJlc2VydmVBc3BlY3RSYXRpbz0ieE1pZFlNaWQiPiAgPGNpcmNsZSBjeD0iNTAiIGN5PSI1MCIgZmlsbD0ibm9uZSIgc3Ryb2tlPSIjYzNjM2MzIiBzdHJva2Utd2lkdGg9IjEwIiByPSIzNSIgc3Ryb2tlLWRhc2hhcnJheT0iMTY0LjkzMzYxNDMxMzQ2NDE1IDU2Ljk3Nzg3MTQzNzgyMTM4Ij4gICAgPGFuaW1hdGVUcmFuc2Zvcm0gYXR0cmlidXRlTmFtZT0idHJhbnNmb3JtIiB0eXBlPSJyb3RhdGUiIHJlcGVhdENvdW50PSJpbmRlZmluaXRlIiBkdXI9IjFzIiB2YWx1ZXM9IjAgNTAgNTA7MzYwIDUwIDUwIiBrZXlUaW1lcz0iMDsxIj48L2FuaW1hdGVUcmFuc2Zvcm0+ICA8L2NpcmNsZT48L3N2Zz4=\\\");\\n  background-size: auto calc(min(50%, 400px));\\n}\",{\"id\":\"fce22ece-8d15-4179-8df7-d086b920ff84\"},{\"id\":\"bb124531-9cd8-43a0-8c25-9624448229a1\"},{\"id\":\"9438fbac-2cbf-4a6c-a863-8d0b9e5ad16a\"},{\"id\":\"f627067b-9baf-4661-ae09-db05d0d144ac\"}],\"margin\":0,\"align\":\"start\",\"children\":[{\"type\":\"object\",\"name\":\"Slider\",\"id\":\"acb75e32-ed8b-41b0-952f-de6af2154beb\",\"attributes\":{\"stylesheets\":[\"\\n:host(.pn-loading.pn-arc):before, .pn-loading.pn-arc:before {\\n  background-image: url(\\\"data:image/svg+xml;base64,PHN2ZyB4bWxucz0iaHR0cDovL3d3dy53My5vcmcvMjAwMC9zdmciIHN0eWxlPSJtYXJnaW46IGF1dG87IGJhY2tncm91bmQ6IG5vbmU7IGRpc3BsYXk6IGJsb2NrOyBzaGFwZS1yZW5kZXJpbmc6IGF1dG87IiB2aWV3Qm94PSIwIDAgMTAwIDEwMCIgcHJlc2VydmVBc3BlY3RSYXRpbz0ieE1pZFlNaWQiPiAgPGNpcmNsZSBjeD0iNTAiIGN5PSI1MCIgZmlsbD0ibm9uZSIgc3Ryb2tlPSIjYzNjM2MzIiBzdHJva2Utd2lkdGg9IjEwIiByPSIzNSIgc3Ryb2tlLWRhc2hhcnJheT0iMTY0LjkzMzYxNDMxMzQ2NDE1IDU2Ljk3Nzg3MTQzNzgyMTM4Ij4gICAgPGFuaW1hdGVUcmFuc2Zvcm0gYXR0cmlidXRlTmFtZT0idHJhbnNmb3JtIiB0eXBlPSJyb3RhdGUiIHJlcGVhdENvdW50PSJpbmRlZmluaXRlIiBkdXI9IjFzIiB2YWx1ZXM9IjAgNTAgNTA7MzYwIDUwIDUwIiBrZXlUaW1lcz0iMDsxIj48L2FuaW1hdGVUcmFuc2Zvcm0+ICA8L2NpcmNsZT48L3N2Zz4=\\\");\\n  background-size: auto calc(min(50%, 400px));\\n}\",{\"id\":\"fce22ece-8d15-4179-8df7-d086b920ff84\"},{\"id\":\"9438fbac-2cbf-4a6c-a863-8d0b9e5ad16a\"},{\"id\":\"f627067b-9baf-4661-ae09-db05d0d144ac\"}],\"margin\":[5,10],\"align\":\"start\",\"title\":\"Dates\",\"start\":100,\"end\":7000,\"value\":100}}]}},{\"type\":\"object\",\"name\":\"Figure\",\"id\":\"9ba18aeb-2582-4602-a4b5-35c73e653ef0\",\"attributes\":{\"width\":700,\"height\":300,\"margin\":[5,10],\"sizing_mode\":\"fixed\",\"align\":\"start\",\"x_range\":{\"type\":\"object\",\"name\":\"Range1d\",\"id\":\"dc025f92-98b1-44e4-87bd-925a6bea4b21\",\"attributes\":{\"tags\":[[[\"depth\",\"Depth\",\"m\"]],[]],\"end\":100.0,\"reset_start\":0.0,\"reset_end\":100.0}},\"y_range\":{\"type\":\"object\",\"name\":\"Range1d\",\"id\":\"5fdd28ab-7043-4458-ab2d-fdaabaf124bf\",\"attributes\":{\"tags\":[[[\"sea_water_temperature\",\"Sea Water Temperature\",\"degree_C\"]],{\"type\":\"map\",\"entries\":[[\"invert_yaxis\",false],[\"autorange\",false]]}],\"start\":8.657535221603995,\"end\":8.860927632209528,\"reset_start\":8.657535221603995,\"reset_end\":8.860927632209528}},\"x_scale\":{\"type\":\"object\",\"name\":\"LinearScale\",\"id\":\"b2ddcaba-7a5b-4bcf-a2ef-0cc7f8e12ec3\"},\"y_scale\":{\"type\":\"object\",\"name\":\"LinearScale\",\"id\":\"1a3e8450-3cf8-428c-830d-2186a2c5d35f\"},\"title\":{\"type\":\"object\",\"name\":\"Title\",\"id\":\"06c45877-4c52-4f12-96a1-6032832dcea9\",\"attributes\":{\"text\":\"cast_start_time = 2010-03-17T05:00:05\",\"text_color\":\"black\",\"text_font_size\":\"12pt\"}},\"renderers\":[{\"type\":\"object\",\"name\":\"GlyphRenderer\",\"id\":\"bca751e0-639d-437d-918c-45d451dded97\",\"attributes\":{\"data_source\":{\"type\":\"object\",\"name\":\"ColumnDataSource\",\"id\":\"bd3e477f-6c83-4ecf-bbaa-05202da2783a\",\"attributes\":{\"selected\":{\"type\":\"object\",\"name\":\"Selection\",\"id\":\"f88464b8-52ac-42e1-a1d8-f4e36d3ec7cb\",\"attributes\":{\"indices\":[],\"line_indices\":[]}},\"selection_policy\":{\"type\":\"object\",\"name\":\"UnionRenderers\",\"id\":\"5293163c-ef81-4b51-a4a2-a6ba2b03cf69\"},\"data\":{\"type\":\"map\",\"entries\":[[\"depth\",{\"type\":\"ndarray\",\"array\":{\"type\":\"bytes\",\"data\":\"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\"},\"shape\":[401],\"dtype\":\"float64\",\"order\":\"little\"}],[\"sea_water_temperature\",{\"type\":\"ndarray\",\"array\":{\"type\":\"bytes\",\"data\":\"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\"},\"shape\":[401],\"dtype\":\"float64\",\"order\":\"little\"}]]}}},\"view\":{\"type\":\"object\",\"name\":\"CDSView\",\"id\":\"cb8ce5c7-41af-4ca4-b90a-f2e279e461ca\",\"attributes\":{\"filter\":{\"type\":\"object\",\"name\":\"AllIndices\",\"id\":\"1e49fc58-b0ec-4951-890b-e79a2d3d6ffa\"}}},\"glyph\":{\"type\":\"object\",\"name\":\"Line\",\"id\":\"e38eb0af-ba69-4d39-b15d-4a79fc824d6d\",\"attributes\":{\"tags\":[\"apply_ranges\"],\"x\":{\"type\":\"field\",\"field\":\"depth\"},\"y\":{\"type\":\"field\",\"field\":\"sea_water_temperature\"},\"line_color\":\"#30a2da\",\"line_width\":2}},\"selection_glyph\":{\"type\":\"object\",\"name\":\"Line\",\"id\":\"5f473242-5a89-48d3-834b-e6534893481a\",\"attributes\":{\"tags\":[\"apply_ranges\"],\"x\":{\"type\":\"field\",\"field\":\"depth\"},\"y\":{\"type\":\"field\",\"field\":\"sea_water_temperature\"},\"line_color\":\"#30a2da\",\"line_width\":2}},\"nonselection_glyph\":{\"type\":\"object\",\"name\":\"Line\",\"id\":\"03307283-35d3-4449-81f3-ab14e276e6b0\",\"attributes\":{\"tags\":[\"apply_ranges\"],\"x\":{\"type\":\"field\",\"field\":\"depth\"},\"y\":{\"type\":\"field\",\"field\":\"sea_water_temperature\"},\"line_color\":\"#30a2da\",\"line_alpha\":0.1,\"line_width\":2}},\"muted_glyph\":{\"type\":\"object\",\"name\":\"Line\",\"id\":\"192721d2-f430-4077-b7bd-949f70436bc5\",\"attributes\":{\"tags\":[\"apply_ranges\"],\"x\":{\"type\":\"field\",\"field\":\"depth\"},\"y\":{\"type\":\"field\",\"field\":\"sea_water_temperature\"},\"line_color\":\"#30a2da\",\"line_alpha\":0.2,\"line_width\":2}}}}],\"toolbar\":{\"type\":\"object\",\"name\":\"Toolbar\",\"id\":\"bcb36855-9e3b-4a40-b3bb-0779bca6ee73\",\"attributes\":{\"tools\":[{\"type\":\"object\",\"name\":\"WheelZoomTool\",\"id\":\"611b9dfa-db6e-48e3-8ff5-5457810c7b9c\",\"attributes\":{\"tags\":[\"hv_created\"],\"zoom_together\":\"none\"}},{\"type\":\"object\",\"name\":\"HoverTool\",\"id\":\"a4a2df3a-b948-4c82-86a3-c1535af21099\",\"attributes\":{\"tags\":[\"hv_created\"],\"renderers\":[{\"id\":\"bca751e0-639d-437d-918c-45d451dded97\"}],\"tooltips\":[[\"Depth (m)\",\"@{depth}\"],[\"Sea Water Temperature (degree_C)\",\"@{sea_water_temperature}\"]]}},{\"type\":\"object\",\"name\":\"SaveTool\",\"id\":\"d2ba11f9-e4d5-4b0b-ab3e-598c52e425d5\"},{\"type\":\"object\",\"name\":\"PanTool\",\"id\":\"52f31e2a-7fa7-4349-a0c1-e45620bc570a\"},{\"type\":\"object\",\"name\":\"BoxZoomTool\",\"id\":\"59145154-c7b7-4eb6-af0f-fd420df97cb1\",\"attributes\":{\"overlay\":{\"type\":\"object\",\"name\":\"BoxAnnotation\",\"id\":\"6165f5a6-d012-4e4a-b110-9a5712e8e902\",\"attributes\":{\"syncable\":false,\"level\":\"overlay\",\"visible\":false,\"left_units\":\"canvas\",\"right_units\":\"canvas\",\"bottom_units\":\"canvas\",\"top_units\":\"canvas\",\"line_color\":\"black\",\"line_alpha\":1.0,\"line_width\":2,\"line_dash\":[4,4],\"fill_color\":\"lightgrey\",\"fill_alpha\":0.5}}}},{\"type\":\"object\",\"name\":\"ResetTool\",\"id\":\"8d10c06c-b82a-4a5d-adad-cc04b42cfc21\"}],\"active_drag\":{\"id\":\"52f31e2a-7fa7-4349-a0c1-e45620bc570a\"},\"active_scroll\":{\"id\":\"611b9dfa-db6e-48e3-8ff5-5457810c7b9c\"}}},\"left\":[{\"type\":\"object\",\"name\":\"LinearAxis\",\"id\":\"c87319f8-255a-410b-8b7c-a800918027bd\",\"attributes\":{\"ticker\":{\"type\":\"object\",\"name\":\"BasicTicker\",\"id\":\"c8f715f0-54c6-4232-b159-d1baf5db7385\",\"attributes\":{\"mantissas\":[1,2,5]}},\"formatter\":{\"type\":\"object\",\"name\":\"BasicTickFormatter\",\"id\":\"9332a7cb-4e2b-4509-90db-65785353f68f\"},\"axis_label\":\"Sea Water Temperature (degree_C)\",\"major_label_policy\":{\"type\":\"object\",\"name\":\"AllLabels\",\"id\":\"1f748df0-a465-4610-acf9-8eee0351e2a4\"}}}],\"below\":[{\"type\":\"object\",\"name\":\"LinearAxis\",\"id\":\"bbf155ec-4b28-4cc4-8871-465150f9705b\",\"attributes\":{\"ticker\":{\"type\":\"object\",\"name\":\"BasicTicker\",\"id\":\"637aef4b-a801-43ff-9087-1c607ac04997\",\"attributes\":{\"mantissas\":[1,2,5]}},\"formatter\":{\"type\":\"object\",\"name\":\"BasicTickFormatter\",\"id\":\"c95f27d4-a970-49bd-8c8a-ccdb31b30c95\"},\"axis_label\":\"Depth (m)\",\"major_label_policy\":{\"type\":\"object\",\"name\":\"AllLabels\",\"id\":\"f79c169c-415d-4c75-9824-09f0a92d8b0d\"}}}],\"center\":[{\"type\":\"object\",\"name\":\"Grid\",\"id\":\"733ade1c-9682-4aa2-9e4e-e4c527fb333e\",\"attributes\":{\"axis\":{\"id\":\"bbf155ec-4b28-4cc4-8871-465150f9705b\"},\"grid_line_color\":null}},{\"type\":\"object\",\"name\":\"Grid\",\"id\":\"124ce185-f112-4ea2-ae82-1d50c7e0c9a6\",\"attributes\":{\"dimension\":1,\"axis\":{\"id\":\"c87319f8-255a-410b-8b7c-a800918027bd\"},\"grid_line_color\":null}}],\"min_border_top\":10,\"min_border_bottom\":10,\"min_border_left\":10,\"min_border_right\":10,\"output_backend\":\"webgl\"}}]}}]}},{\"type\":\"object\",\"name\":\"panel.models.comm_manager.CommManager\",\"id\":\"cf014456-8873-47ea-8b52-4f6a93a2536f\",\"attributes\":{\"plot_id\":\"c35674a6-d182-4856-a3f3-25cf7c8face1\",\"comm_id\":\"bb89d32e85bc4a0c9fbf419d7ccc40f2\",\"client_comm_id\":\"c1832d2455ca4d3d9329b0d132268424\"}}],\"defs\":[{\"type\":\"model\",\"name\":\"ReactiveHTML1\"},{\"type\":\"model\",\"name\":\"FlexBox1\",\"properties\":[{\"name\":\"align_content\",\"kind\":\"Any\",\"default\":\"flex-start\"},{\"name\":\"align_items\",\"kind\":\"Any\",\"default\":\"flex-start\"},{\"name\":\"flex_direction\",\"kind\":\"Any\",\"default\":\"row\"},{\"name\":\"flex_wrap\",\"kind\":\"Any\",\"default\":\"wrap\"},{\"name\":\"justify_content\",\"kind\":\"Any\",\"default\":\"flex-start\"}]},{\"type\":\"model\",\"name\":\"FloatPanel1\",\"properties\":[{\"name\":\"config\",\"kind\":\"Any\",\"default\":{\"type\":\"map\"}},{\"name\":\"contained\",\"kind\":\"Any\",\"default\":true},{\"name\":\"position\",\"kind\":\"Any\",\"default\":\"right-top\"},{\"name\":\"offsetx\",\"kind\":\"Any\",\"default\":null},{\"name\":\"offsety\",\"kind\":\"Any\",\"default\":null},{\"name\":\"theme\",\"kind\":\"Any\",\"default\":\"primary\"},{\"name\":\"status\",\"kind\":\"Any\",\"default\":\"normalized\"}]},{\"type\":\"model\",\"name\":\"GridStack1\",\"properties\":[{\"name\":\"mode\",\"kind\":\"Any\",\"default\":\"warn\"},{\"name\":\"ncols\",\"kind\":\"Any\",\"default\":null},{\"name\":\"nrows\",\"kind\":\"Any\",\"default\":null},{\"name\":\"allow_resize\",\"kind\":\"Any\",\"default\":true},{\"name\":\"allow_drag\",\"kind\":\"Any\",\"default\":true},{\"name\":\"state\",\"kind\":\"Any\",\"default\":[]}]},{\"type\":\"model\",\"name\":\"drag1\",\"properties\":[{\"name\":\"slider_width\",\"kind\":\"Any\",\"default\":5},{\"name\":\"slider_color\",\"kind\":\"Any\",\"default\":\"black\"},{\"name\":\"value\",\"kind\":\"Any\",\"default\":50}]},{\"type\":\"model\",\"name\":\"click1\",\"properties\":[{\"name\":\"terminal_output\",\"kind\":\"Any\",\"default\":\"\"},{\"name\":\"debug_name\",\"kind\":\"Any\",\"default\":\"\"},{\"name\":\"clears\",\"kind\":\"Any\",\"default\":0}]},{\"type\":\"model\",\"name\":\"FastWrapper1\",\"properties\":[{\"name\":\"object\",\"kind\":\"Any\",\"default\":null},{\"name\":\"style\",\"kind\":\"Any\",\"default\":null}]},{\"type\":\"model\",\"name\":\"NotificationAreaBase1\",\"properties\":[{\"name\":\"js_events\",\"kind\":\"Any\",\"default\":{\"type\":\"map\"}},{\"name\":\"position\",\"kind\":\"Any\",\"default\":\"bottom-right\"},{\"name\":\"_clear\",\"kind\":\"Any\",\"default\":0}]},{\"type\":\"model\",\"name\":\"NotificationArea1\",\"properties\":[{\"name\":\"js_events\",\"kind\":\"Any\",\"default\":{\"type\":\"map\"}},{\"name\":\"notifications\",\"kind\":\"Any\",\"default\":[]},{\"name\":\"position\",\"kind\":\"Any\",\"default\":\"bottom-right\"},{\"name\":\"_clear\",\"kind\":\"Any\",\"default\":0},{\"name\":\"types\",\"kind\":\"Any\",\"default\":[{\"type\":\"map\",\"entries\":[[\"type\",\"warning\"],[\"background\",\"#ffc107\"],[\"icon\",{\"type\":\"map\",\"entries\":[[\"className\",\"fas fa-exclamation-triangle\"],[\"tagName\",\"i\"],[\"color\",\"white\"]]}]]},{\"type\":\"map\",\"entries\":[[\"type\",\"info\"],[\"background\",\"#007bff\"],[\"icon\",{\"type\":\"map\",\"entries\":[[\"className\",\"fas fa-info-circle\"],[\"tagName\",\"i\"],[\"color\",\"white\"]]}]]}]}]},{\"type\":\"model\",\"name\":\"Notification\",\"properties\":[{\"name\":\"background\",\"kind\":\"Any\",\"default\":null},{\"name\":\"duration\",\"kind\":\"Any\",\"default\":3000},{\"name\":\"icon\",\"kind\":\"Any\",\"default\":null},{\"name\":\"message\",\"kind\":\"Any\",\"default\":\"\"},{\"name\":\"notification_type\",\"kind\":\"Any\",\"default\":null},{\"name\":\"_destroyed\",\"kind\":\"Any\",\"default\":false}]},{\"type\":\"model\",\"name\":\"TemplateActions1\",\"properties\":[{\"name\":\"open_modal\",\"kind\":\"Any\",\"default\":0},{\"name\":\"close_modal\",\"kind\":\"Any\",\"default\":0}]},{\"type\":\"model\",\"name\":\"BootstrapTemplateActions1\",\"properties\":[{\"name\":\"open_modal\",\"kind\":\"Any\",\"default\":0},{\"name\":\"close_modal\",\"kind\":\"Any\",\"default\":0}]},{\"type\":\"model\",\"name\":\"MaterialTemplateActions1\",\"properties\":[{\"name\":\"open_modal\",\"kind\":\"Any\",\"default\":0},{\"name\":\"close_modal\",\"kind\":\"Any\",\"default\":0}]}]}};\n",
       "  var render_items = [{\"docid\":\"226fea2d-fa11-4c07-b0aa-20f6a2ef5766\",\"roots\":{\"c35674a6-d182-4856-a3f3-25cf7c8face1\":\"df5a83f3-5ede-4b29-89c8-cad8e767cf0b\"},\"root_ids\":[\"c35674a6-d182-4856-a3f3-25cf7c8face1\"]}];\n",
       "  var docs = Object.values(docs_json)\n",
       "  if (!docs) {\n",
       "    return\n",
       "  }\n",
       "  const py_version = docs[0].version.replace('rc', '-rc.').replace('.dev', '-dev.')\n",
       "  const is_dev = py_version.indexOf(\"+\") !== -1 || py_version.indexOf(\"-\") !== -1\n",
       "  function embed_document(root) {\n",
       "    var Bokeh = get_bokeh(root)\n",
       "    Bokeh.embed.embed_items_notebook(docs_json, render_items);\n",
       "    for (const render_item of render_items) {\n",
       "      for (const root_id of render_item.root_ids) {\n",
       "\tconst id_el = document.getElementById(root_id)\n",
       "\tif (id_el.children.length && (id_el.children[0].className === 'bk-root')) {\n",
       "\t  const root_el = id_el.children[0]\n",
       "\t  root_el.id = root_el.id + '-rendered'\n",
       "\t}\n",
       "      }\n",
       "    }\n",
       "  }\n",
       "  function get_bokeh(root) {\n",
       "    if (root.Bokeh === undefined) {\n",
       "      return null\n",
       "    } else if (root.Bokeh.version !== py_version && !is_dev) {\n",
       "      if (root.Bokeh.versions === undefined || !root.Bokeh.versions.has(py_version)) {\n",
       "\treturn null\n",
       "      }\n",
       "      return root.Bokeh.versions.get(py_version);\n",
       "    } else if (root.Bokeh.version === py_version) {\n",
       "      return root.Bokeh\n",
       "    }\n",
       "    return null\n",
       "  }\n",
       "  function is_loaded(root) {\n",
       "    var Bokeh = get_bokeh(root)\n",
       "    return (Bokeh != null && Bokeh.Panel !== undefined)\n",
       "  }\n",
       "  if (is_loaded(root)) {\n",
       "    embed_document(root);\n",
       "  } else {\n",
       "    var attempts = 0;\n",
       "    var timer = setInterval(function(root) {\n",
       "      if (is_loaded(root)) {\n",
       "        clearInterval(timer);\n",
       "        embed_document(root);\n",
       "      } else if (document.readyState == \"complete\") {\n",
       "        attempts++;\n",
       "        if (attempts > 200) {\n",
       "          clearInterval(timer);\n",
       "\t  var Bokeh = get_bokeh(root)\n",
       "\t  if (Bokeh == null || Bokeh.Panel == null) {\n",
       "            console.warn(\"Panel: ERROR: Unable to run Panel code because Bokeh or Panel library is missing\");\n",
       "\t  } else {\n",
       "\t    console.warn(\"Panel: WARNING: Attempting to render but not all required libraries could be resolved.\")\n",
       "\t    embed_document(root)\n",
       "\t  }\n",
       "        }\n",
       "      }\n",
       "    }, 25, root)\n",
       "  }\n",
       "})(window);</script>"
      ],
      "text/plain": [
       "<hvplot.xarray.XArrayInteractive at 0x7f59e95c8e50>"
      ]
     },
     "execution_count": 191,
     "metadata": {
      "application/vnd.holoviews_exec.v0+json": {
       "id": "c35674a6-d182-4856-a3f3-25cf7c8face1"
      }
     },
     "output_type": "execute_result"
    }
   ],
   "source": [
    "slider = pn.widgets.IntSlider(name='Dates', start=100, end=7000)\n",
    "nwem_interactive.isel(cast_start_time=slider).sea_water_temperature.hvplot()"
   ]
  },
  {
   "cell_type": "code",
   "execution_count": 192,
   "id": "7638d325-878c-4c68-a6af-fb4ce5e62760",
   "metadata": {
    "tags": []
   },
   "outputs": [],
   "source": [
    "def plot_timerange(nwem_interactive, date_slider):\n",
    "    \n",
    "    nwem_to_plot = nwem_interactive.where(nwem_interactive.cast_dates > date_slider,\n",
    "                                          drop=True)\n",
    "    dates_to_plot = nwem_to_plot.cast_start_time.values\n",
    "    depths_to_plot = nwem_to_plot.depth.values\n",
    "    sst_to_plot = nwem_to_plot.sea_water_temperature.values\n",
    "    \n",
    "    fig = plt.Figure()\n",
    "    ax = fig.add_subplot(111)\n",
    "    cb = ax.pcolor(dates_to_plot, depths_to_plot, sst_to_plot.T)\n",
    "    ax.invert_yaxis()\n",
    "    fig.colorbar(cb,ax=ax)\n",
    "    \n",
    "    #(nwem_interactive.where(nwem_interactive.cast_dates > date_slider,drop=True).\n",
    "    # sea_water_temperature.plot(x='cast_start_time'))\n",
    "    \n",
    "    return fig   "
   ]
  },
  {
   "cell_type": "code",
   "execution_count": 194,
   "id": "b6064885-992a-46b8-9679-7ec10ac8664b",
   "metadata": {
    "tags": []
   },
   "outputs": [
    {
     "ename": "AttributeError",
     "evalue": "'XArrayInteractive' object has no attribute 'cast_start_time'",
     "output_type": "error",
     "traceback": [
      "\u001b[0;31m---------------------------------------------------------------------------\u001b[0m",
      "\u001b[0;31mAttributeError\u001b[0m                            Traceback (most recent call last)",
      "Cell \u001b[0;32mIn[194], line 1\u001b[0m\n\u001b[0;32m----> 1\u001b[0m nwem_interactive\u001b[38;5;241m.\u001b[39misel(\u001b[43mnwem_interactive\u001b[49m\u001b[38;5;241;43m.\u001b[39;49m\u001b[43mcast_start_time\u001b[49m \u001b[38;5;241m>\u001b[39m date_slider[\u001b[38;5;241m0\u001b[39m]\u001b[38;5;241m.\u001b[39mvalues)\n",
      "File \u001b[0;32m/opt/conda/lib/python3.9/site-packages/hvplot/interactive.py:449\u001b[0m, in \u001b[0;36mInteractive.__getattribute__\u001b[0;34m(self, name)\u001b[0m\n\u001b[1;32m    447\u001b[0m         \u001b[38;5;28;01mpass\u001b[39;00m\n\u001b[1;32m    448\u001b[0m     \u001b[38;5;28;01mreturn\u001b[39;00m new\n\u001b[0;32m--> 449\u001b[0m \u001b[38;5;28;01mreturn\u001b[39;00m \u001b[38;5;28;43msuper\u001b[39;49m\u001b[43m(\u001b[49m\u001b[43m)\u001b[49m\u001b[38;5;241;43m.\u001b[39;49m\u001b[38;5;21;43m__getattribute__\u001b[39;49m\u001b[43m(\u001b[49m\u001b[43mname\u001b[49m\u001b[43m)\u001b[49m\n",
      "\u001b[0;31mAttributeError\u001b[0m: 'XArrayInteractive' object has no attribute 'cast_start_time'"
     ]
    }
   ],
   "source": [
    "nwem_interactive.isel(nwem_interactive.cast_start_time > date_slider[0].values)"
   ]
  },
  {
   "cell_type": "code",
   "execution_count": 193,
   "id": "3a8018ec-41d7-49c3-9ff5-c55bdfd904af",
   "metadata": {
    "tags": []
   },
   "outputs": [
    {
     "ename": "AttributeError",
     "evalue": "'function' object has no attribute 'where'",
     "output_type": "error",
     "traceback": [
      "\u001b[0;31m---------------------------------------------------------------------------\u001b[0m",
      "\u001b[0;31mAttributeError\u001b[0m                            Traceback (most recent call last)",
      "Cell \u001b[0;32mIn[193], line 1\u001b[0m\n\u001b[0;32m----> 1\u001b[0m mpl \u001b[38;5;241m=\u001b[39m \u001b[43mpn\u001b[49m\u001b[38;5;241;43m.\u001b[39;49m\u001b[43mpane\u001b[49m\u001b[38;5;241;43m.\u001b[39;49m\u001b[43mMatplotlib\u001b[49m\u001b[43m(\u001b[49m\n\u001b[1;32m      2\u001b[0m \u001b[43m    \u001b[49m\u001b[43mpn\u001b[49m\u001b[38;5;241;43m.\u001b[39;49m\u001b[43mbind\u001b[49m\u001b[43m(\u001b[49m\u001b[43mplot_timerange\u001b[49m\u001b[43m,\u001b[49m\u001b[43m \u001b[49m\u001b[43mnwem_interactive\u001b[49m\u001b[43m,\u001b[49m\u001b[43m \u001b[49m\u001b[43mslider\u001b[49m\u001b[43m)\u001b[49m\n\u001b[1;32m      3\u001b[0m \u001b[43m)\u001b[49m\n\u001b[1;32m      5\u001b[0m pn\u001b[38;5;241m.\u001b[39mRow(\n\u001b[1;32m      6\u001b[0m     \u001b[38;5;124m'\u001b[39m\u001b[38;5;124mBuoy data\u001b[39m\u001b[38;5;124m'\u001b[39m, mpl\n\u001b[1;32m      7\u001b[0m )\u001b[38;5;241m.\u001b[39mservable(target\u001b[38;5;241m=\u001b[39m\u001b[38;5;124m'\u001b[39m\u001b[38;5;124mmain\u001b[39m\u001b[38;5;124m'\u001b[39m)\n",
      "File \u001b[0;32m/opt/conda/lib/python3.9/site-packages/panel/pane/plot.py:250\u001b[0m, in \u001b[0;36mMatplotlib.__init__\u001b[0;34m(self, object, **params)\u001b[0m\n\u001b[1;32m    249\u001b[0m \u001b[38;5;28;01mdef\u001b[39;00m \u001b[38;5;21m__init__\u001b[39m(\u001b[38;5;28mself\u001b[39m, \u001b[38;5;28mobject\u001b[39m\u001b[38;5;241m=\u001b[39m\u001b[38;5;28;01mNone\u001b[39;00m, \u001b[38;5;241m*\u001b[39m\u001b[38;5;241m*\u001b[39mparams):\n\u001b[0;32m--> 250\u001b[0m     \u001b[38;5;28;43msuper\u001b[39;49m\u001b[43m(\u001b[49m\u001b[43m)\u001b[49m\u001b[38;5;241;43m.\u001b[39;49m\u001b[38;5;21;43m__init__\u001b[39;49m\u001b[43m(\u001b[49m\u001b[38;5;28;43mobject\u001b[39;49m\u001b[43m,\u001b[49m\u001b[43m \u001b[49m\u001b[38;5;241;43m*\u001b[39;49m\u001b[38;5;241;43m*\u001b[39;49m\u001b[43mparams\u001b[49m\u001b[43m)\u001b[49m\n\u001b[1;32m    251\u001b[0m     \u001b[38;5;28mself\u001b[39m\u001b[38;5;241m.\u001b[39m_managers \u001b[38;5;241m=\u001b[39m {}\n",
      "File \u001b[0;32m/opt/conda/lib/python3.9/site-packages/panel/pane/image.py:45\u001b[0m, in \u001b[0;36mFileBase.__init__\u001b[0;34m(self, object, **params)\u001b[0m\n\u001b[1;32m     43\u001b[0m \u001b[38;5;28;01mif\u001b[39;00m \u001b[38;5;28misinstance\u001b[39m(\u001b[38;5;28mobject\u001b[39m, PurePath):\n\u001b[1;32m     44\u001b[0m     \u001b[38;5;28mobject\u001b[39m \u001b[38;5;241m=\u001b[39m \u001b[38;5;28mstr\u001b[39m(\u001b[38;5;28mobject\u001b[39m)\n\u001b[0;32m---> 45\u001b[0m \u001b[38;5;28;43msuper\u001b[39;49m\u001b[43m(\u001b[49m\u001b[43m)\u001b[49m\u001b[38;5;241;43m.\u001b[39;49m\u001b[38;5;21;43m__init__\u001b[39;49m\u001b[43m(\u001b[49m\u001b[38;5;28;43mobject\u001b[39;49m\u001b[38;5;241;43m=\u001b[39;49m\u001b[38;5;28;43mobject\u001b[39;49m\u001b[43m,\u001b[49m\u001b[43m \u001b[49m\u001b[38;5;241;43m*\u001b[39;49m\u001b[38;5;241;43m*\u001b[39;49m\u001b[43mparams\u001b[49m\u001b[43m)\u001b[49m\n",
      "File \u001b[0;32m/opt/conda/lib/python3.9/site-packages/panel/pane/markup.py:48\u001b[0m, in \u001b[0;36mHTMLBasePane.__init__\u001b[0;34m(self, object, **params)\u001b[0m\n\u001b[1;32m     46\u001b[0m     params[\u001b[38;5;124m\"\u001b[39m\u001b[38;5;124mstyles\u001b[39m\u001b[38;5;124m\"\u001b[39m] \u001b[38;5;241m=\u001b[39m params\u001b[38;5;241m.\u001b[39mpop(\u001b[38;5;124m\"\u001b[39m\u001b[38;5;124mstyle\u001b[39m\u001b[38;5;124m\"\u001b[39m)\n\u001b[1;32m     47\u001b[0m     deprecated(\u001b[38;5;124m\"\u001b[39m\u001b[38;5;124m1.3\u001b[39m\u001b[38;5;124m\"\u001b[39m, \u001b[38;5;124m\"\u001b[39m\u001b[38;5;124mstyle\u001b[39m\u001b[38;5;124m\"\u001b[39m,  \u001b[38;5;124m\"\u001b[39m\u001b[38;5;124mstyles\u001b[39m\u001b[38;5;124m\"\u001b[39m)\n\u001b[0;32m---> 48\u001b[0m \u001b[38;5;28;43msuper\u001b[39;49m\u001b[43m(\u001b[49m\u001b[43m)\u001b[49m\u001b[38;5;241;43m.\u001b[39;49m\u001b[38;5;21;43m__init__\u001b[39;49m\u001b[43m(\u001b[49m\u001b[38;5;28;43mobject\u001b[39;49m\u001b[38;5;241;43m=\u001b[39;49m\u001b[38;5;28;43mobject\u001b[39;49m\u001b[43m,\u001b[49m\u001b[43m \u001b[49m\u001b[38;5;241;43m*\u001b[39;49m\u001b[38;5;241;43m*\u001b[39;49m\u001b[43mparams\u001b[49m\u001b[43m)\u001b[49m\n",
      "File \u001b[0;32m/opt/conda/lib/python3.9/site-packages/panel/pane/base.py:161\u001b[0m, in \u001b[0;36mPaneBase.__init__\u001b[0;34m(self, object, **params)\u001b[0m\n\u001b[1;32m    159\u001b[0m \u001b[38;5;28;01mdef\u001b[39;00m \u001b[38;5;21m__init__\u001b[39m(\u001b[38;5;28mself\u001b[39m, \u001b[38;5;28mobject\u001b[39m\u001b[38;5;241m=\u001b[39m\u001b[38;5;28;01mNone\u001b[39;00m, \u001b[38;5;241m*\u001b[39m\u001b[38;5;241m*\u001b[39mparams):\n\u001b[1;32m    160\u001b[0m     \u001b[38;5;28mself\u001b[39m\u001b[38;5;241m.\u001b[39m_object_changing \u001b[38;5;241m=\u001b[39m \u001b[38;5;28;01mFalse\u001b[39;00m\n\u001b[0;32m--> 161\u001b[0m     \u001b[38;5;28;43msuper\u001b[39;49m\u001b[43m(\u001b[49m\u001b[43m)\u001b[49m\u001b[38;5;241;43m.\u001b[39;49m\u001b[38;5;21;43m__init__\u001b[39;49m\u001b[43m(\u001b[49m\u001b[38;5;28;43mobject\u001b[39;49m\u001b[38;5;241;43m=\u001b[39;49m\u001b[38;5;28;43mobject\u001b[39;49m\u001b[43m,\u001b[49m\u001b[43m \u001b[49m\u001b[38;5;241;43m*\u001b[39;49m\u001b[38;5;241;43m*\u001b[39;49m\u001b[43mparams\u001b[49m\u001b[43m)\u001b[49m\n\u001b[1;32m    162\u001b[0m     applies \u001b[38;5;241m=\u001b[39m \u001b[38;5;28mself\u001b[39m\u001b[38;5;241m.\u001b[39mapplies(\u001b[38;5;28mself\u001b[39m\u001b[38;5;241m.\u001b[39mobject, \u001b[38;5;241m*\u001b[39m\u001b[38;5;241m*\u001b[39m(params \u001b[38;5;28;01mif\u001b[39;00m \u001b[38;5;28mself\u001b[39m\u001b[38;5;241m.\u001b[39m_applies_kw \u001b[38;5;28;01melse\u001b[39;00m {}))\n\u001b[1;32m    163\u001b[0m     \u001b[38;5;28;01mif\u001b[39;00m (\u001b[38;5;28misinstance\u001b[39m(applies, \u001b[38;5;28mbool\u001b[39m) \u001b[38;5;129;01mand\u001b[39;00m \u001b[38;5;129;01mnot\u001b[39;00m applies) \u001b[38;5;129;01mand\u001b[39;00m \u001b[38;5;28mself\u001b[39m\u001b[38;5;241m.\u001b[39mobject \u001b[38;5;129;01mis\u001b[39;00m \u001b[38;5;129;01mnot\u001b[39;00m \u001b[38;5;28;01mNone\u001b[39;00m:\n",
      "File \u001b[0;32m/opt/conda/lib/python3.9/site-packages/panel/reactive.py:543\u001b[0m, in \u001b[0;36mReactive.__init__\u001b[0;34m(self, refs, **params)\u001b[0m\n\u001b[1;32m    541\u001b[0m \u001b[38;5;28;01mdef\u001b[39;00m \u001b[38;5;21m__init__\u001b[39m(\u001b[38;5;28mself\u001b[39m, refs\u001b[38;5;241m=\u001b[39m\u001b[38;5;28;01mNone\u001b[39;00m, \u001b[38;5;241m*\u001b[39m\u001b[38;5;241m*\u001b[39mparams):\n\u001b[1;32m    542\u001b[0m     \u001b[38;5;28mself\u001b[39m\u001b[38;5;241m.\u001b[39m_async_refs \u001b[38;5;241m=\u001b[39m {}\n\u001b[0;32m--> 543\u001b[0m     params, refs \u001b[38;5;241m=\u001b[39m \u001b[38;5;28;43mself\u001b[39;49m\u001b[38;5;241;43m.\u001b[39;49m\u001b[43m_extract_refs\u001b[49m\u001b[43m(\u001b[49m\u001b[43mparams\u001b[49m\u001b[43m,\u001b[49m\u001b[43m \u001b[49m\u001b[43mrefs\u001b[49m\u001b[43m)\u001b[49m\n\u001b[1;32m    544\u001b[0m     \u001b[38;5;28msuper\u001b[39m()\u001b[38;5;241m.\u001b[39m\u001b[38;5;21m__init__\u001b[39m(\u001b[38;5;241m*\u001b[39m\u001b[38;5;241m*\u001b[39mparams)\n\u001b[1;32m    545\u001b[0m     \u001b[38;5;28mself\u001b[39m\u001b[38;5;241m.\u001b[39m_refs \u001b[38;5;241m=\u001b[39m refs\n",
      "File \u001b[0;32m/opt/conda/lib/python3.9/site-packages/panel/reactive.py:606\u001b[0m, in \u001b[0;36mReactive._extract_refs\u001b[0;34m(self, params, refs)\u001b[0m\n\u001b[1;32m    602\u001b[0m         \u001b[38;5;28;01mcontinue\u001b[39;00m\n\u001b[1;32m    604\u001b[0m \u001b[38;5;66;03m# Resolve references, allowing for Widget, Parameter and\u001b[39;00m\n\u001b[1;32m    605\u001b[0m \u001b[38;5;66;03m# objects with dependencies\u001b[39;00m\n\u001b[0;32m--> 606\u001b[0m ref, value \u001b[38;5;241m=\u001b[39m \u001b[38;5;28;43mself\u001b[39;49m\u001b[38;5;241;43m.\u001b[39;49m\u001b[43m_resolve_ref\u001b[49m\u001b[43m(\u001b[49m\u001b[43mpname\u001b[49m\u001b[43m,\u001b[49m\u001b[43m \u001b[49m\u001b[43mvalue\u001b[49m\u001b[43m)\u001b[49m\n\u001b[1;32m    607\u001b[0m \u001b[38;5;28;01mif\u001b[39;00m ref \u001b[38;5;129;01mis\u001b[39;00m \u001b[38;5;129;01mnot\u001b[39;00m \u001b[38;5;28;01mNone\u001b[39;00m:\n\u001b[1;32m    608\u001b[0m     out_refs[pname] \u001b[38;5;241m=\u001b[39m ref\n",
      "File \u001b[0;32m/opt/conda/lib/python3.9/site-packages/panel/pane/ipywidget.py:48\u001b[0m, in \u001b[0;36mIPyWidget._resolve_ref\u001b[0;34m(self, pname, value)\u001b[0m\n\u001b[1;32m     46\u001b[0m \u001b[38;5;28;01mif\u001b[39;00m pname \u001b[38;5;241m==\u001b[39m \u001b[38;5;124m'\u001b[39m\u001b[38;5;124mobject\u001b[39m\u001b[38;5;124m'\u001b[39m \u001b[38;5;129;01mand\u001b[39;00m \u001b[38;5;28mself\u001b[39m\u001b[38;5;241m.\u001b[39mapplies(value):\n\u001b[1;32m     47\u001b[0m     \u001b[38;5;28;01mreturn\u001b[39;00m \u001b[38;5;28;01mNone\u001b[39;00m, value\n\u001b[0;32m---> 48\u001b[0m \u001b[38;5;28;01mreturn\u001b[39;00m \u001b[38;5;28;43msuper\u001b[39;49m\u001b[43m(\u001b[49m\u001b[43m)\u001b[49m\u001b[38;5;241;43m.\u001b[39;49m\u001b[43m_resolve_ref\u001b[49m\u001b[43m(\u001b[49m\u001b[43mpname\u001b[49m\u001b[43m,\u001b[49m\u001b[43m \u001b[49m\u001b[43mvalue\u001b[49m\u001b[43m)\u001b[49m\n",
      "File \u001b[0;32m/opt/conda/lib/python3.9/site-packages/panel/reactive.py:557\u001b[0m, in \u001b[0;36mReactive._resolve_ref\u001b[0;34m(self, pname, value)\u001b[0m\n\u001b[1;32m    555\u001b[0m \u001b[38;5;28;01melif\u001b[39;00m \u001b[38;5;28mhasattr\u001b[39m(value, \u001b[38;5;124m'\u001b[39m\u001b[38;5;124m_dinfo\u001b[39m\u001b[38;5;124m'\u001b[39m):\n\u001b[1;32m    556\u001b[0m     ref \u001b[38;5;241m=\u001b[39m value\n\u001b[0;32m--> 557\u001b[0m     value \u001b[38;5;241m=\u001b[39m \u001b[43meval_function\u001b[49m\u001b[43m(\u001b[49m\u001b[43mvalue\u001b[49m\u001b[43m)\u001b[49m\n\u001b[1;32m    558\u001b[0m     \u001b[38;5;28;01mif\u001b[39;00m \u001b[38;5;28misinstance\u001b[39m(value, Generator):\n\u001b[1;32m    559\u001b[0m         \u001b[38;5;28;01mif\u001b[39;00m pname \u001b[38;5;241m==\u001b[39m \u001b[38;5;124m'\u001b[39m\u001b[38;5;124mrefs\u001b[39m\u001b[38;5;124m'\u001b[39m:\n",
      "File \u001b[0;32m/opt/conda/lib/python3.9/site-packages/panel/util/__init__.py:325\u001b[0m, in \u001b[0;36meval_function\u001b[0;34m(function)\u001b[0m\n\u001b[1;32m    323\u001b[0m         args \u001b[38;5;241m=\u001b[39m (\u001b[38;5;28mgetattr\u001b[39m(dep\u001b[38;5;241m.\u001b[39mowner, dep\u001b[38;5;241m.\u001b[39mname) \u001b[38;5;28;01mfor\u001b[39;00m dep \u001b[38;5;129;01min\u001b[39;00m arg_deps)\n\u001b[1;32m    324\u001b[0m         kwargs \u001b[38;5;241m=\u001b[39m {n: \u001b[38;5;28mgetattr\u001b[39m(dep\u001b[38;5;241m.\u001b[39mowner, dep\u001b[38;5;241m.\u001b[39mname) \u001b[38;5;28;01mfor\u001b[39;00m n, dep \u001b[38;5;129;01min\u001b[39;00m kw_deps\u001b[38;5;241m.\u001b[39mitems()}\n\u001b[0;32m--> 325\u001b[0m \u001b[38;5;28;01mreturn\u001b[39;00m \u001b[43mfunction\u001b[49m\u001b[43m(\u001b[49m\u001b[38;5;241;43m*\u001b[39;49m\u001b[43margs\u001b[49m\u001b[43m,\u001b[49m\u001b[43m \u001b[49m\u001b[38;5;241;43m*\u001b[39;49m\u001b[38;5;241;43m*\u001b[39;49m\u001b[43mkwargs\u001b[49m\u001b[43m)\u001b[49m\n",
      "File \u001b[0;32m/opt/conda/lib/python3.9/site-packages/param/parameterized.py:407\u001b[0m, in \u001b[0;36mdepends.<locals>._depends\u001b[0;34m(*args, **kw)\u001b[0m\n\u001b[1;32m    405\u001b[0m \u001b[38;5;129m@wraps\u001b[39m(func)\n\u001b[1;32m    406\u001b[0m \u001b[38;5;28;01mdef\u001b[39;00m \u001b[38;5;21m_depends\u001b[39m(\u001b[38;5;241m*\u001b[39margs, \u001b[38;5;241m*\u001b[39m\u001b[38;5;241m*\u001b[39mkw):\n\u001b[0;32m--> 407\u001b[0m     \u001b[38;5;28;01mreturn\u001b[39;00m \u001b[43mfunc\u001b[49m\u001b[43m(\u001b[49m\u001b[38;5;241;43m*\u001b[39;49m\u001b[43margs\u001b[49m\u001b[43m,\u001b[49m\u001b[43m \u001b[49m\u001b[38;5;241;43m*\u001b[39;49m\u001b[38;5;241;43m*\u001b[39;49m\u001b[43mkw\u001b[49m\u001b[43m)\u001b[49m\n",
      "File \u001b[0;32m/opt/conda/lib/python3.9/site-packages/panel/depends.py:249\u001b[0m, in \u001b[0;36m_param_bind.<locals>.wrapped\u001b[0;34m(*wargs, **wkwargs)\u001b[0m\n\u001b[1;32m    246\u001b[0m \u001b[38;5;129m@depends\u001b[39m(\u001b[38;5;241m*\u001b[39m\u001b[38;5;241m*\u001b[39mdependencies, watch\u001b[38;5;241m=\u001b[39mwatch)\n\u001b[1;32m    247\u001b[0m \u001b[38;5;28;01mdef\u001b[39;00m \u001b[38;5;21mwrapped\u001b[39m(\u001b[38;5;241m*\u001b[39mwargs, \u001b[38;5;241m*\u001b[39m\u001b[38;5;241m*\u001b[39mwkwargs):\n\u001b[1;32m    248\u001b[0m     combined_args, combined_kwargs \u001b[38;5;241m=\u001b[39m combine_arguments(wargs, wkwargs)\n\u001b[0;32m--> 249\u001b[0m     \u001b[38;5;28;01mreturn\u001b[39;00m \u001b[43meval_fn\u001b[49m\u001b[43m(\u001b[49m\u001b[43m)\u001b[49m\u001b[43m(\u001b[49m\u001b[38;5;241;43m*\u001b[39;49m\u001b[43mcombined_args\u001b[49m\u001b[43m,\u001b[49m\u001b[43m \u001b[49m\u001b[38;5;241;43m*\u001b[39;49m\u001b[38;5;241;43m*\u001b[39;49m\u001b[43mcombined_kwargs\u001b[49m\u001b[43m)\u001b[49m\n",
      "Cell \u001b[0;32mIn[192], line 3\u001b[0m, in \u001b[0;36mplot_timerange\u001b[0;34m(nwem_interactive, date_slider)\u001b[0m\n\u001b[1;32m      1\u001b[0m \u001b[38;5;28;01mdef\u001b[39;00m \u001b[38;5;21mplot_timerange\u001b[39m(nwem_interactive, date_slider):\n\u001b[0;32m----> 3\u001b[0m     nwem_to_plot \u001b[38;5;241m=\u001b[39m \u001b[43mnwem_interactive\u001b[49m\u001b[38;5;241;43m.\u001b[39;49m\u001b[43mwhere\u001b[49m(nwem_interactive\u001b[38;5;241m.\u001b[39mcast_dates \u001b[38;5;241m>\u001b[39m date_slider,\n\u001b[1;32m      4\u001b[0m                                           drop\u001b[38;5;241m=\u001b[39m\u001b[38;5;28;01mTrue\u001b[39;00m)\n\u001b[1;32m      5\u001b[0m     dates_to_plot \u001b[38;5;241m=\u001b[39m nwem_to_plot\u001b[38;5;241m.\u001b[39mcast_start_time\u001b[38;5;241m.\u001b[39mvalues\n\u001b[1;32m      6\u001b[0m     depths_to_plot \u001b[38;5;241m=\u001b[39m nwem_to_plot\u001b[38;5;241m.\u001b[39mdepth\u001b[38;5;241m.\u001b[39mvalues\n",
      "\u001b[0;31mAttributeError\u001b[0m: 'function' object has no attribute 'where'"
     ]
    }
   ],
   "source": [
    "mpl = pn.pane.Matplotlib(\n",
    "    pn.bind(plot_timerange, nwem_interactive, slider)\n",
    ")\n",
    "\n",
    "pn.Row(\n",
    "    'Buoy data', mpl\n",
    ").servable(target='main')"
   ]
  },
  {
   "cell_type": "code",
   "execution_count": null,
   "id": "01b60336-833b-4eeb-acf1-6e37e410fe5f",
   "metadata": {},
   "outputs": [],
   "source": []
  }
 ],
 "metadata": {
  "kernelspec": {
   "display_name": "Python 3 (ipykernel)",
   "language": "python",
   "name": "python3"
  },
  "language_info": {
   "codemirror_mode": {
    "name": "ipython",
    "version": 3
   },
   "file_extension": ".py",
   "mimetype": "text/x-python",
   "name": "python",
   "nbconvert_exporter": "python",
   "pygments_lexer": "ipython3",
   "version": "3.9.16"
  }
 },
 "nbformat": 4,
 "nbformat_minor": 5
}