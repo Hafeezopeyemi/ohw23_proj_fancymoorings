{
 "cells": [
  {
   "cell_type": "code",
   "execution_count": 9,
   "id": "111eb482-a0c5-42a7-8299-9888bda750b3",
   "metadata": {
    "tags": []
   },
   "outputs": [],
   "source": [
    "from erddapy import ERDDAP\n",
    "\n",
    "server = \"http://coastwatch.pfeg.noaa.gov/erddap\"\n",
    "\n",
    "e = ERDDAP(server=server, protocol=\"tabledap\")"
   ]
  },
  {
   "cell_type": "markdown",
   "id": "1ba1814d-10e8-4c35-9351-ac37431b825f",
   "metadata": {},
   "source": [
    "Map of the study area"
   ]
  },
  {
   "cell_type": "code",
   "execution_count": 10,
   "id": "bf7fa49a-38b5-41d8-8583-0258a6d91ba9",
   "metadata": {},
   "outputs": [],
   "source": [
    "from ipyleaflet import FullScreenControl, Map, Rectangle\n",
    "\n",
    "min_lon, max_lon = -126, -122\n",
    "min_lat, max_lat = 48, 50\n",
    "\n",
    "rectangle = Rectangle(bounds=((min_lat, min_lon), (max_lat, max_lon)))\n",
    "\n",
    "m = Map(\n",
    "    center=((min_lat + max_lat) / 2, (min_lon + max_lon) / 2),\n",
    "    zoom=6,\n",
    ")\n",
    "\n",
    "m.add_layer(rectangle)\n",
    "m.add_control(FullScreenControl())"
   ]
  },
  {
   "cell_type": "code",
   "execution_count": 11,
   "id": "27e57439-2c20-4500-9381-c3422c7577e4",
   "metadata": {
    "tags": []
   },
   "outputs": [
    {
     "data": {
      "application/vnd.jupyter.widget-view+json": {
       "model_id": "08181e620a524333941e77ea1d18dace",
       "version_major": 2,
       "version_minor": 0
      },
      "text/plain": [
       "Map(center=[49.0, -124.0], controls=(ZoomControl(options=['position', 'zoom_in_text', 'zoom_in_title', 'zoom_o…"
      ]
     },
     "execution_count": 11,
     "metadata": {},
     "output_type": "execute_result"
    }
   ],
   "source": [
    "m"
   ]
  },
  {
   "cell_type": "markdown",
   "id": "782dbc4f-a097-41e3-96d4-41566354119d",
   "metadata": {},
   "source": [
    "NBDC Data Access - Waves and wind"
   ]
  },
  {
   "cell_type": "code",
   "execution_count": 12,
   "id": "eb109536-8e7f-4ad8-aebf-49f6e45aa3af",
   "metadata": {
    "tags": []
   },
   "outputs": [],
   "source": [
    "e.dataset_id = \"cwwcNDBCMet\"\n",
    "\n",
    "e.variables = [\n",
    "    \"station\",\n",
    "    \"time\",\n",
    "    \"latitude\",\n",
    "    \"longitude\",\n",
    "    \"wvht\",\n",
    "    \"dpd\",\n",
    "    \"mwd\",\n",
    "    \"wd\",\n",
    "    \"wspd\",\n",
    "    \"wtmp\"\n",
    "]"
   ]
  },
  {
   "cell_type": "code",
   "execution_count": 13,
   "id": "f76c2a23-a9ee-442d-ac3d-9152a9fb7cd0",
   "metadata": {
    "tags": []
   },
   "outputs": [],
   "source": [
    "e.constraints = {\"time>=\":\"2023-08-01T00:00:00Z\",\n",
    "                \"station=\":\"46087\"}"
   ]
  },
  {
   "cell_type": "code",
   "execution_count": 14,
   "id": "ea0c5deb-534b-4248-b93e-744534644f1c",
   "metadata": {
    "tags": []
   },
   "outputs": [],
   "source": [
    "df = e.to_pandas()"
   ]
  },
  {
   "cell_type": "code",
   "execution_count": 15,
   "id": "ca459452-ae8f-4494-805e-275a6e67abf6",
   "metadata": {
    "tags": []
   },
   "outputs": [
    {
     "data": {
      "text/html": [
       "<div>\n",
       "<style scoped>\n",
       "    .dataframe tbody tr th:only-of-type {\n",
       "        vertical-align: middle;\n",
       "    }\n",
       "\n",
       "    .dataframe tbody tr th {\n",
       "        vertical-align: top;\n",
       "    }\n",
       "\n",
       "    .dataframe thead th {\n",
       "        text-align: right;\n",
       "    }\n",
       "</style>\n",
       "<table border=\"1\" class=\"dataframe\">\n",
       "  <thead>\n",
       "    <tr style=\"text-align: right;\">\n",
       "      <th></th>\n",
       "      <th>station</th>\n",
       "      <th>time (UTC)</th>\n",
       "      <th>latitude (degrees_north)</th>\n",
       "      <th>longitude (degrees_east)</th>\n",
       "      <th>wvht (m)</th>\n",
       "      <th>dpd (s)</th>\n",
       "      <th>mwd (degrees_true)</th>\n",
       "      <th>wd (degrees_true)</th>\n",
       "      <th>wspd (m s-1)</th>\n",
       "      <th>wtmp (degree_C)</th>\n",
       "    </tr>\n",
       "  </thead>\n",
       "  <tbody>\n",
       "    <tr>\n",
       "      <th>0</th>\n",
       "      <td>46087</td>\n",
       "      <td>2023-08-01T00:00:00Z</td>\n",
       "      <td>48.494</td>\n",
       "      <td>-124.727</td>\n",
       "      <td>NaN</td>\n",
       "      <td>NaN</td>\n",
       "      <td>NaN</td>\n",
       "      <td>260.0</td>\n",
       "      <td>3.0</td>\n",
       "      <td>NaN</td>\n",
       "    </tr>\n",
       "    <tr>\n",
       "      <th>1</th>\n",
       "      <td>46087</td>\n",
       "      <td>2023-08-01T00:10:00Z</td>\n",
       "      <td>48.494</td>\n",
       "      <td>-124.727</td>\n",
       "      <td>0.6</td>\n",
       "      <td>NaN</td>\n",
       "      <td>278.0</td>\n",
       "      <td>260.0</td>\n",
       "      <td>3.0</td>\n",
       "      <td>13.0</td>\n",
       "    </tr>\n",
       "    <tr>\n",
       "      <th>2</th>\n",
       "      <td>46087</td>\n",
       "      <td>2023-08-01T00:20:00Z</td>\n",
       "      <td>48.494</td>\n",
       "      <td>-124.727</td>\n",
       "      <td>0.6</td>\n",
       "      <td>5.0</td>\n",
       "      <td>278.0</td>\n",
       "      <td>250.0</td>\n",
       "      <td>3.0</td>\n",
       "      <td>NaN</td>\n",
       "    </tr>\n",
       "    <tr>\n",
       "      <th>3</th>\n",
       "      <td>46087</td>\n",
       "      <td>2023-08-01T00:30:00Z</td>\n",
       "      <td>48.494</td>\n",
       "      <td>-124.727</td>\n",
       "      <td>NaN</td>\n",
       "      <td>NaN</td>\n",
       "      <td>NaN</td>\n",
       "      <td>260.0</td>\n",
       "      <td>3.0</td>\n",
       "      <td>13.2</td>\n",
       "    </tr>\n",
       "    <tr>\n",
       "      <th>4</th>\n",
       "      <td>46087</td>\n",
       "      <td>2023-08-01T00:40:00Z</td>\n",
       "      <td>48.494</td>\n",
       "      <td>-124.727</td>\n",
       "      <td>NaN</td>\n",
       "      <td>NaN</td>\n",
       "      <td>NaN</td>\n",
       "      <td>270.0</td>\n",
       "      <td>3.0</td>\n",
       "      <td>13.2</td>\n",
       "    </tr>\n",
       "    <tr>\n",
       "      <th>...</th>\n",
       "      <td>...</td>\n",
       "      <td>...</td>\n",
       "      <td>...</td>\n",
       "      <td>...</td>\n",
       "      <td>...</td>\n",
       "      <td>...</td>\n",
       "      <td>...</td>\n",
       "      <td>...</td>\n",
       "      <td>...</td>\n",
       "      <td>...</td>\n",
       "    </tr>\n",
       "    <tr>\n",
       "      <th>904</th>\n",
       "      <td>46087</td>\n",
       "      <td>2023-08-08T22:00:00Z</td>\n",
       "      <td>48.494</td>\n",
       "      <td>-124.727</td>\n",
       "      <td>NaN</td>\n",
       "      <td>NaN</td>\n",
       "      <td>NaN</td>\n",
       "      <td>220.0</td>\n",
       "      <td>2.0</td>\n",
       "      <td>12.3</td>\n",
       "    </tr>\n",
       "    <tr>\n",
       "      <th>905</th>\n",
       "      <td>46087</td>\n",
       "      <td>2023-08-08T22:10:00Z</td>\n",
       "      <td>48.494</td>\n",
       "      <td>-124.727</td>\n",
       "      <td>NaN</td>\n",
       "      <td>NaN</td>\n",
       "      <td>NaN</td>\n",
       "      <td>210.0</td>\n",
       "      <td>2.0</td>\n",
       "      <td>11.8</td>\n",
       "    </tr>\n",
       "    <tr>\n",
       "      <th>906</th>\n",
       "      <td>46087</td>\n",
       "      <td>2023-08-08T22:20:00Z</td>\n",
       "      <td>48.494</td>\n",
       "      <td>-124.727</td>\n",
       "      <td>0.7</td>\n",
       "      <td>8.0</td>\n",
       "      <td>239.0</td>\n",
       "      <td>220.0</td>\n",
       "      <td>2.0</td>\n",
       "      <td>12.1</td>\n",
       "    </tr>\n",
       "    <tr>\n",
       "      <th>907</th>\n",
       "      <td>46087</td>\n",
       "      <td>2023-08-08T22:40:00Z</td>\n",
       "      <td>48.494</td>\n",
       "      <td>-124.727</td>\n",
       "      <td>NaN</td>\n",
       "      <td>NaN</td>\n",
       "      <td>NaN</td>\n",
       "      <td>240.0</td>\n",
       "      <td>2.0</td>\n",
       "      <td>12.4</td>\n",
       "    </tr>\n",
       "    <tr>\n",
       "      <th>908</th>\n",
       "      <td>46087</td>\n",
       "      <td>2023-08-08T22:50:00Z</td>\n",
       "      <td>48.494</td>\n",
       "      <td>-124.727</td>\n",
       "      <td>0.7</td>\n",
       "      <td>8.0</td>\n",
       "      <td>251.0</td>\n",
       "      <td>240.0</td>\n",
       "      <td>2.0</td>\n",
       "      <td>12.3</td>\n",
       "    </tr>\n",
       "  </tbody>\n",
       "</table>\n",
       "<p>909 rows × 10 columns</p>\n",
       "</div>"
      ],
      "text/plain": [
       "     station            time (UTC)  latitude (degrees_north)  \\\n",
       "0      46087  2023-08-01T00:00:00Z                    48.494   \n",
       "1      46087  2023-08-01T00:10:00Z                    48.494   \n",
       "2      46087  2023-08-01T00:20:00Z                    48.494   \n",
       "3      46087  2023-08-01T00:30:00Z                    48.494   \n",
       "4      46087  2023-08-01T00:40:00Z                    48.494   \n",
       "..       ...                   ...                       ...   \n",
       "904    46087  2023-08-08T22:00:00Z                    48.494   \n",
       "905    46087  2023-08-08T22:10:00Z                    48.494   \n",
       "906    46087  2023-08-08T22:20:00Z                    48.494   \n",
       "907    46087  2023-08-08T22:40:00Z                    48.494   \n",
       "908    46087  2023-08-08T22:50:00Z                    48.494   \n",
       "\n",
       "     longitude (degrees_east)  wvht (m)  dpd (s)  mwd (degrees_true)  \\\n",
       "0                    -124.727       NaN      NaN                 NaN   \n",
       "1                    -124.727       0.6      NaN               278.0   \n",
       "2                    -124.727       0.6      5.0               278.0   \n",
       "3                    -124.727       NaN      NaN                 NaN   \n",
       "4                    -124.727       NaN      NaN                 NaN   \n",
       "..                        ...       ...      ...                 ...   \n",
       "904                  -124.727       NaN      NaN                 NaN   \n",
       "905                  -124.727       NaN      NaN                 NaN   \n",
       "906                  -124.727       0.7      8.0               239.0   \n",
       "907                  -124.727       NaN      NaN                 NaN   \n",
       "908                  -124.727       0.7      8.0               251.0   \n",
       "\n",
       "     wd (degrees_true)  wspd (m s-1)  wtmp (degree_C)  \n",
       "0                260.0           3.0              NaN  \n",
       "1                260.0           3.0             13.0  \n",
       "2                250.0           3.0              NaN  \n",
       "3                260.0           3.0             13.2  \n",
       "4                270.0           3.0             13.2  \n",
       "..                 ...           ...              ...  \n",
       "904              220.0           2.0             12.3  \n",
       "905              210.0           2.0             11.8  \n",
       "906              220.0           2.0             12.1  \n",
       "907              240.0           2.0             12.4  \n",
       "908              240.0           2.0             12.3  \n",
       "\n",
       "[909 rows x 10 columns]"
      ]
     },
     "execution_count": 15,
     "metadata": {},
     "output_type": "execute_result"
    }
   ],
   "source": [
    "df"
   ]
  },
  {
   "cell_type": "code",
   "execution_count": 16,
   "id": "e65d8839-8383-49b7-bf8a-cb0145ebc90a",
   "metadata": {
    "tags": []
   },
   "outputs": [
    {
     "data": {
      "text/plain": [
       "'2023-08-08T22:50:00Z'"
      ]
     },
     "execution_count": 16,
     "metadata": {},
     "output_type": "execute_result"
    }
   ],
   "source": [
    "df['time (UTC)'].max()"
   ]
  },
  {
   "cell_type": "code",
   "execution_count": 17,
   "id": "8496f5ea-27da-4260-8c80-9542f994a574",
   "metadata": {
    "tags": []
   },
   "outputs": [],
   "source": [
    "recent = df.sort_values('time (UTC)').tail(1)"
   ]
  },
  {
   "cell_type": "code",
   "execution_count": 18,
   "id": "4b2c29ed-72cb-40cf-bb55-cf7e7abb539d",
   "metadata": {
    "tags": []
   },
   "outputs": [
    {
     "data": {
      "text/html": [
       "<div>\n",
       "<style scoped>\n",
       "    .dataframe tbody tr th:only-of-type {\n",
       "        vertical-align: middle;\n",
       "    }\n",
       "\n",
       "    .dataframe tbody tr th {\n",
       "        vertical-align: top;\n",
       "    }\n",
       "\n",
       "    .dataframe thead th {\n",
       "        text-align: right;\n",
       "    }\n",
       "</style>\n",
       "<table border=\"1\" class=\"dataframe\">\n",
       "  <thead>\n",
       "    <tr style=\"text-align: right;\">\n",
       "      <th></th>\n",
       "      <th>station</th>\n",
       "      <th>time (UTC)</th>\n",
       "      <th>latitude (degrees_north)</th>\n",
       "      <th>longitude (degrees_east)</th>\n",
       "      <th>wvht (m)</th>\n",
       "      <th>dpd (s)</th>\n",
       "      <th>mwd (degrees_true)</th>\n",
       "      <th>wd (degrees_true)</th>\n",
       "      <th>wspd (m s-1)</th>\n",
       "      <th>wtmp (degree_C)</th>\n",
       "    </tr>\n",
       "  </thead>\n",
       "  <tbody>\n",
       "    <tr>\n",
       "      <th>908</th>\n",
       "      <td>46087</td>\n",
       "      <td>2023-08-08T22:50:00Z</td>\n",
       "      <td>48.494</td>\n",
       "      <td>-124.727</td>\n",
       "      <td>0.7</td>\n",
       "      <td>8.0</td>\n",
       "      <td>251.0</td>\n",
       "      <td>240.0</td>\n",
       "      <td>2.0</td>\n",
       "      <td>12.3</td>\n",
       "    </tr>\n",
       "  </tbody>\n",
       "</table>\n",
       "</div>"
      ],
      "text/plain": [
       "     station            time (UTC)  latitude (degrees_north)  \\\n",
       "908    46087  2023-08-08T22:50:00Z                    48.494   \n",
       "\n",
       "     longitude (degrees_east)  wvht (m)  dpd (s)  mwd (degrees_true)  \\\n",
       "908                  -124.727       0.7      8.0               251.0   \n",
       "\n",
       "     wd (degrees_true)  wspd (m s-1)  wtmp (degree_C)  \n",
       "908              240.0           2.0             12.3  "
      ]
     },
     "execution_count": 18,
     "metadata": {},
     "output_type": "execute_result"
    }
   ],
   "source": [
    "recent"
   ]
  },
  {
   "cell_type": "markdown",
   "id": "087341b8-50e6-47c0-bf8b-435587847bb0",
   "metadata": {},
   "source": [
    "Most recent wave height"
   ]
  },
  {
   "cell_type": "code",
   "execution_count": 19,
   "id": "ad386b48-fb46-405b-bae9-4636bd82aa0f",
   "metadata": {
    "tags": []
   },
   "outputs": [
    {
     "data": {
      "text/plain": [
       "0.7"
      ]
     },
     "execution_count": 19,
     "metadata": {},
     "output_type": "execute_result"
    }
   ],
   "source": [
    "recent['wvht (m)'].values[0]"
   ]
  },
  {
   "cell_type": "markdown",
   "id": "858184cc-b73d-49f6-b9fb-f3eca30cd078",
   "metadata": {},
   "source": [
    "Most recent dominant wave period"
   ]
  },
  {
   "cell_type": "code",
   "execution_count": 20,
   "id": "2d8f51cd-ad3a-49e9-bbfb-f31aebc4f3a7",
   "metadata": {
    "tags": []
   },
   "outputs": [
    {
     "data": {
      "text/plain": [
       "8.0"
      ]
     },
     "execution_count": 20,
     "metadata": {},
     "output_type": "execute_result"
    }
   ],
   "source": [
    "recent['dpd (s)'].values[0]"
   ]
  },
  {
   "cell_type": "markdown",
   "id": "fa2d1db8-25c8-457f-a464-74427f509951",
   "metadata": {},
   "source": [
    "Most recent wave direction"
   ]
  },
  {
   "cell_type": "code",
   "execution_count": 21,
   "id": "49d4e8c1-2fd4-4d27-b9de-2ca8293a702b",
   "metadata": {
    "tags": []
   },
   "outputs": [
    {
     "data": {
      "text/plain": [
       "251.0"
      ]
     },
     "execution_count": 21,
     "metadata": {},
     "output_type": "execute_result"
    }
   ],
   "source": [
    "recent['mwd (degrees_true)'].values[0]"
   ]
  },
  {
   "cell_type": "code",
   "execution_count": 22,
   "id": "b8e85470-b828-4570-846c-d62d2f4233d0",
   "metadata": {
    "tags": []
   },
   "outputs": [
    {
     "data": {
      "text/plain": [
       "2.0"
      ]
     },
     "execution_count": 22,
     "metadata": {},
     "output_type": "execute_result"
    }
   ],
   "source": [
    "recent['wspd (m s-1)'].values[0]"
   ]
  },
  {
   "cell_type": "code",
   "execution_count": 23,
   "id": "faf15789-944f-4e15-bb7a-24fce5baaa13",
   "metadata": {
    "tags": []
   },
   "outputs": [
    {
     "data": {
      "text/plain": [
       "240.0"
      ]
     },
     "execution_count": 23,
     "metadata": {},
     "output_type": "execute_result"
    }
   ],
   "source": [
    "recent['wd (degrees_true)'].values[0]"
   ]
  },
  {
   "cell_type": "code",
   "execution_count": 24,
   "id": "51f4c890-3a7b-4b9e-860f-0828ca5b86b9",
   "metadata": {
    "tags": []
   },
   "outputs": [
    {
     "data": {
      "text/plain": [
       "12.3"
      ]
     },
     "execution_count": 24,
     "metadata": {},
     "output_type": "execute_result"
    }
   ],
   "source": [
    "recent['wtmp (degree_C)'].values[0]"
   ]
  },
  {
   "cell_type": "code",
   "execution_count": 25,
   "id": "05090c2e-4477-4883-8cc3-af79b1d7b987",
   "metadata": {
    "tags": []
   },
   "outputs": [
    {
     "name": "stdout",
     "output_type": "stream",
     "text": [
      "The primary swell at Neah Bay is 0.7 meters at 8.0 seconds coming from 251.0 degrees\n"
     ]
    }
   ],
   "source": [
    "print(f\"The primary swell at Neah Bay is {recent['wvht (m)'].values[0]} meters at {recent['dpd (s)'].values[0]} seconds coming from {recent['mwd (degrees_true)'].values[0]} degrees\")"
   ]
  },
  {
   "cell_type": "code",
   "execution_count": 26,
   "id": "3216ae89-2818-42d0-83bb-2e6a6b7f3fe6",
   "metadata": {
    "tags": []
   },
   "outputs": [
    {
     "name": "stdout",
     "output_type": "stream",
     "text": [
      "The wind is blowing 2.0 meters per second from 240.0 degrees\n"
     ]
    }
   ],
   "source": [
    "print(f\"The wind is blowing {recent['wspd (m s-1)'].values[0]} meters per second from {recent['wd (degrees_true)'].values[0]} degrees\")"
   ]
  },
  {
   "cell_type": "code",
   "execution_count": 27,
   "id": "272f1531-664a-46bc-9965-3b3cb6325d02",
   "metadata": {
    "tags": []
   },
   "outputs": [
    {
     "name": "stdout",
     "output_type": "stream",
     "text": [
      "The water is 12.3 degrees celcius\n"
     ]
    }
   ],
   "source": [
    "print(f\"The water is {recent['wtmp (degree_C)'].values[0]} degrees celcius\")"
   ]
  },
  {
   "cell_type": "markdown",
   "id": "af722e2d-cc23-40b7-a416-0d5fe4aeb25a",
   "metadata": {},
   "source": [
    "NOS/Co-Ops Data - Tides"
   ]
  },
  {
   "cell_type": "code",
   "execution_count": 28,
   "id": "8606fc6c-3ad3-4a3b-87fc-7fcd055776e9",
   "metadata": {
    "tags": []
   },
   "outputs": [],
   "source": [
    "server = \"http://coastwatch.pfeg.noaa.gov/erddap\"\n",
    "\n",
    "e = ERDDAP(server=server, protocol=\"tabledap\")"
   ]
  },
  {
   "cell_type": "code",
   "execution_count": 29,
   "id": "391bdffa-e57e-4da9-b331-6f3655646cbd",
   "metadata": {
    "tags": []
   },
   "outputs": [],
   "source": [
    "e.constraints = {\"time>=\":\"2023-08-01T00:00:00Z\",\n",
    "                \"stationID=\":\"9443090\"}"
   ]
  },
  {
   "cell_type": "code",
   "execution_count": 30,
   "id": "55ca169a-fb31-45d1-b8b7-e52c7c4e95f8",
   "metadata": {
    "tags": []
   },
   "outputs": [],
   "source": [
    "#e.dataset_id = \"nosCoopsWLTPHL\"\n",
    "e.dataset_id = \"nosCoopsWLTP60\"\n",
    "\n",
    "e.variables = [\n",
    "    \"stationID\",\n",
    "    \"time\",\n",
    "    \"predictedWL\"\n",
    "]"
   ]
  },
  {
   "cell_type": "code",
   "execution_count": 33,
   "id": "5fec79bb-dc05-46dd-8f0d-71c3d1ddeaa2",
   "metadata": {
    "tags": []
   },
   "outputs": [
    {
     "data": {
      "text/html": [
       "<div>\n",
       "<style scoped>\n",
       "    .dataframe tbody tr th:only-of-type {\n",
       "        vertical-align: middle;\n",
       "    }\n",
       "\n",
       "    .dataframe tbody tr th {\n",
       "        vertical-align: top;\n",
       "    }\n",
       "\n",
       "    .dataframe thead th {\n",
       "        text-align: right;\n",
       "    }\n",
       "</style>\n",
       "<table border=\"1\" class=\"dataframe\">\n",
       "  <thead>\n",
       "    <tr style=\"text-align: right;\">\n",
       "      <th></th>\n",
       "      <th>stationID</th>\n",
       "      <th>time (UTC)</th>\n",
       "      <th>predictedWL (m)</th>\n",
       "    </tr>\n",
       "  </thead>\n",
       "  <tbody>\n",
       "    <tr>\n",
       "      <th>192</th>\n",
       "      <td>9443090</td>\n",
       "      <td>2023-08-09T00:00:00Z</td>\n",
       "      <td>2.012</td>\n",
       "    </tr>\n",
       "  </tbody>\n",
       "</table>\n",
       "</div>"
      ],
      "text/plain": [
       "     stationID            time (UTC)  predictedWL (m)\n",
       "192    9443090  2023-08-09T00:00:00Z            2.012"
      ]
     },
     "execution_count": 33,
     "metadata": {},
     "output_type": "execute_result"
    }
   ],
   "source": [
    "df = e.to_pandas()\n",
    "\n",
    "df.sort_values('time (UTC)').tail(1)"
   ]
  },
  {
   "cell_type": "code",
   "execution_count": null,
   "id": "f1b9a17a-c8dc-4d8f-bf19-c96c2b462ad7",
   "metadata": {},
   "outputs": [],
   "source": []
  }
 ],
 "metadata": {
  "kernelspec": {
   "display_name": "Python 3 (ipykernel)",
   "language": "python",
   "name": "python3"
  },
  "language_info": {
   "codemirror_mode": {
    "name": "ipython",
    "version": 3
   },
   "file_extension": ".py",
   "mimetype": "text/x-python",
   "name": "python",
   "nbconvert_exporter": "python",
   "pygments_lexer": "ipython3",
   "version": "3.9.16"
  }
 },
 "nbformat": 4,
 "nbformat_minor": 5
}
