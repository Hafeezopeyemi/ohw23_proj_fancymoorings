{
 "cells": [
  {
   "cell_type": "code",
   "execution_count": 1,
   "id": "11052511-c629-4eb6-96ca-6a35025297c3",
   "metadata": {
    "tags": []
   },
   "outputs": [],
   "source": [
    "from erddapy import ERDDAP\n",
    "import folium\n",
    "import pandas as pd\n"
   ]
  },
  {
   "cell_type": "markdown",
   "id": "96f1943e-9878-42f2-8c8f-7dab890102bc",
   "metadata": {
    "tags": []
   },
   "source": [
    "Nowcast - Straight of Juan de Fuca"
   ]
  },
  {
   "cell_type": "code",
   "execution_count": 2,
   "id": "4d9a080c-e308-4b5c-b670-2047bf2437a2",
   "metadata": {
    "tags": []
   },
   "outputs": [],
   "source": [
    "server = \"http://coastwatch.pfeg.noaa.gov/erddap\"\n",
    "\n",
    "e = ERDDAP(server=server, protocol=\"tabledap\")\n",
    "\n",
    "e.dataset_id = \"cwwcNDBCMet\"\n",
    "\n",
    "e.variables = [\n",
    "    \"station\",\n",
    "    \"time\",\n",
    "    \"latitude\",\n",
    "    \"longitude\",\n",
    "    \"wvht\",\n",
    "    \"dpd\",\n",
    "    \"mwd\",\n",
    "    \"wd\",\n",
    "    \"wspd\",\n",
    "    \"wtmp\"\n",
    "]\n",
    "\n",
    "e.constraints = {\"time>=\":\"2023-08-01T00:00:00Z\",\n",
    "                \"station=\":\"46087\"}\n",
    "\n",
    "df = e.to_pandas()\n",
    "\n",
    "recent = df.dropna().sort_values('time (UTC)').tail(1)"
   ]
  },
  {
   "cell_type": "code",
   "execution_count": 3,
   "id": "a928e775-06b0-4bec-bfaa-172c437abd12",
   "metadata": {
    "tags": []
   },
   "outputs": [
    {
     "data": {
      "text/html": [
       "<div>\n",
       "<style scoped>\n",
       "    .dataframe tbody tr th:only-of-type {\n",
       "        vertical-align: middle;\n",
       "    }\n",
       "\n",
       "    .dataframe tbody tr th {\n",
       "        vertical-align: top;\n",
       "    }\n",
       "\n",
       "    .dataframe thead th {\n",
       "        text-align: right;\n",
       "    }\n",
       "</style>\n",
       "<table border=\"1\" class=\"dataframe\">\n",
       "  <thead>\n",
       "    <tr style=\"text-align: right;\">\n",
       "      <th></th>\n",
       "      <th>station</th>\n",
       "      <th>time (UTC)</th>\n",
       "      <th>latitude (degrees_north)</th>\n",
       "      <th>longitude (degrees_east)</th>\n",
       "      <th>wvht (m)</th>\n",
       "      <th>dpd (s)</th>\n",
       "      <th>mwd (degrees_true)</th>\n",
       "      <th>wd (degrees_true)</th>\n",
       "      <th>wspd (m s-1)</th>\n",
       "      <th>wtmp (degree_C)</th>\n",
       "    </tr>\n",
       "  </thead>\n",
       "  <tbody>\n",
       "    <tr>\n",
       "      <th>1033</th>\n",
       "      <td>46087</td>\n",
       "      <td>2023-08-09T23:50:00Z</td>\n",
       "      <td>48.494</td>\n",
       "      <td>-124.727</td>\n",
       "      <td>1.4</td>\n",
       "      <td>9.0</td>\n",
       "      <td>278.0</td>\n",
       "      <td>210.0</td>\n",
       "      <td>3.0</td>\n",
       "      <td>11.9</td>\n",
       "    </tr>\n",
       "  </tbody>\n",
       "</table>\n",
       "</div>"
      ],
      "text/plain": [
       "      station            time (UTC)  latitude (degrees_north)  \\\n",
       "1033    46087  2023-08-09T23:50:00Z                    48.494   \n",
       "\n",
       "      longitude (degrees_east)  wvht (m)  dpd (s)  mwd (degrees_true)  \\\n",
       "1033                  -124.727       1.4      9.0               278.0   \n",
       "\n",
       "      wd (degrees_true)  wspd (m s-1)  wtmp (degree_C)  \n",
       "1033              210.0           3.0             11.9  "
      ]
     },
     "execution_count": 3,
     "metadata": {},
     "output_type": "execute_result"
    }
   ],
   "source": [
    "recent"
   ]
  },
  {
   "cell_type": "code",
   "execution_count": 4,
   "id": "2c31252d-4d80-442d-b02c-be68e9a6e637",
   "metadata": {
    "tags": []
   },
   "outputs": [
    {
     "name": "stdout",
     "output_type": "stream",
     "text": [
      "The swell is getting into the straight\n",
      "The wind is offshore for north facing spots\n"
     ]
    }
   ],
   "source": [
    "if (340.0 > recent['mwd (degrees_true)'].values[0] > 260.0) :\n",
    "    print(\"The swell is getting into the straight\")\n",
    "    \n",
    "    if (270 > recent['wd (degrees_true)'].values[0] > 90) :\n",
    "        print(\"The wind is offshore for north facing spots\")\n",
    "    elif ((recent['wd (degrees_true)'].values[0] > 210.0) or (recent['wd (degrees_true)'].values[0] < 120.0)) :\n",
    "        print(\"wind is offshore for south facers\")\n",
    "else :\n",
    "    print(\"The swell isn't getting into the straight; conditions will be flat\")\n"
   ]
  },
  {
   "cell_type": "markdown",
   "id": "cc8fbbdf-1e68-45f4-9976-2ca6cb2d2361",
   "metadata": {},
   "source": [
    "Nowcast - Westport/Grays Harbor"
   ]
  },
  {
   "cell_type": "code",
   "execution_count": 5,
   "id": "3ebcfb9b-3496-4dba-8f08-c74247d713fe",
   "metadata": {
    "tags": []
   },
   "outputs": [],
   "source": [
    "e.constraints = {\"time>=\":\"2023-08-01T00:00:00Z\",\n",
    "                \"station=\":\"46211\"}\n",
    "\n",
    "df = e.to_pandas()\n",
    "\n",
    "recent = df.sort_values('time (UTC)').tail(1)"
   ]
  },
  {
   "cell_type": "code",
   "execution_count": 6,
   "id": "0c8d19af-81a9-46aa-98ab-e2e84af5fba1",
   "metadata": {
    "tags": []
   },
   "outputs": [
    {
     "data": {
      "text/html": [
       "<div>\n",
       "<style scoped>\n",
       "    .dataframe tbody tr th:only-of-type {\n",
       "        vertical-align: middle;\n",
       "    }\n",
       "\n",
       "    .dataframe tbody tr th {\n",
       "        vertical-align: top;\n",
       "    }\n",
       "\n",
       "    .dataframe thead th {\n",
       "        text-align: right;\n",
       "    }\n",
       "</style>\n",
       "<table border=\"1\" class=\"dataframe\">\n",
       "  <thead>\n",
       "    <tr style=\"text-align: right;\">\n",
       "      <th></th>\n",
       "      <th>station</th>\n",
       "      <th>time (UTC)</th>\n",
       "      <th>latitude (degrees_north)</th>\n",
       "      <th>longitude (degrees_east)</th>\n",
       "      <th>wvht (m)</th>\n",
       "      <th>dpd (s)</th>\n",
       "      <th>mwd (degrees_true)</th>\n",
       "      <th>wd (degrees_true)</th>\n",
       "      <th>wspd (m s-1)</th>\n",
       "      <th>wtmp (degree_C)</th>\n",
       "    </tr>\n",
       "  </thead>\n",
       "  <tbody>\n",
       "    <tr>\n",
       "      <th>429</th>\n",
       "      <td>46211</td>\n",
       "      <td>2023-08-09T23:56:00Z</td>\n",
       "      <td>46.857</td>\n",
       "      <td>-124.244</td>\n",
       "      <td>1.2</td>\n",
       "      <td>8.0</td>\n",
       "      <td>275</td>\n",
       "      <td>NaN</td>\n",
       "      <td>NaN</td>\n",
       "      <td>17.6</td>\n",
       "    </tr>\n",
       "  </tbody>\n",
       "</table>\n",
       "</div>"
      ],
      "text/plain": [
       "     station            time (UTC)  latitude (degrees_north)  \\\n",
       "429    46211  2023-08-09T23:56:00Z                    46.857   \n",
       "\n",
       "     longitude (degrees_east)  wvht (m)  dpd (s)  mwd (degrees_true)  \\\n",
       "429                  -124.244       1.2      8.0                 275   \n",
       "\n",
       "     wd (degrees_true)  wspd (m s-1)  wtmp (degree_C)  \n",
       "429                NaN           NaN             17.6  "
      ]
     },
     "execution_count": 6,
     "metadata": {},
     "output_type": "execute_result"
    }
   ],
   "source": [
    "recent"
   ]
  },
  {
   "cell_type": "code",
   "execution_count": 7,
   "id": "bed4613e-e8bd-4b96-971a-5afb5ce85b58",
   "metadata": {},
   "outputs": [
    {
     "data": {
      "text/html": [
       "<div>\n",
       "<style scoped>\n",
       "    .dataframe tbody tr th:only-of-type {\n",
       "        vertical-align: middle;\n",
       "    }\n",
       "\n",
       "    .dataframe tbody tr th {\n",
       "        vertical-align: top;\n",
       "    }\n",
       "\n",
       "    .dataframe thead th {\n",
       "        text-align: right;\n",
       "    }\n",
       "</style>\n",
       "<table border=\"1\" class=\"dataframe\">\n",
       "  <thead>\n",
       "    <tr style=\"text-align: right;\">\n",
       "      <th></th>\n",
       "      <th>name</th>\n",
       "      <th>lon</th>\n",
       "      <th>lat</th>\n",
       "      <th>min_wd</th>\n",
       "      <th>max_wd</th>\n",
       "      <th>min_sd</th>\n",
       "      <th>max_sd</th>\n",
       "    </tr>\n",
       "  </thead>\n",
       "  <tbody>\n",
       "    <tr>\n",
       "      <th>0</th>\n",
       "      <td>Jordan River</td>\n",
       "      <td>-124.0562</td>\n",
       "      <td>48.4195</td>\n",
       "      <td>270</td>\n",
       "      <td>90</td>\n",
       "      <td>260</td>\n",
       "      <td>340</td>\n",
       "    </tr>\n",
       "    <tr>\n",
       "      <th>1</th>\n",
       "      <td>Crescent Beach</td>\n",
       "      <td>-123.7183</td>\n",
       "      <td>48.1651</td>\n",
       "      <td>90</td>\n",
       "      <td>270</td>\n",
       "      <td>260</td>\n",
       "      <td>240</td>\n",
       "    </tr>\n",
       "    <tr>\n",
       "      <th>2</th>\n",
       "      <td>Westport</td>\n",
       "      <td>-124.1496</td>\n",
       "      <td>46.9009</td>\n",
       "      <td>0</td>\n",
       "      <td>180</td>\n",
       "      <td>210</td>\n",
       "      <td>330</td>\n",
       "    </tr>\n",
       "    <tr>\n",
       "      <th>3</th>\n",
       "      <td>Fort Ebey</td>\n",
       "      <td>-122.7736</td>\n",
       "      <td>48.2198</td>\n",
       "      <td>0</td>\n",
       "      <td>180</td>\n",
       "      <td>260</td>\n",
       "      <td>340</td>\n",
       "    </tr>\n",
       "  </tbody>\n",
       "</table>\n",
       "</div>"
      ],
      "text/plain": [
       "             name       lon      lat  min_wd  max_wd  min_sd  max_sd\n",
       "0    Jordan River -124.0562  48.4195     270      90     260     340\n",
       "1  Crescent Beach -123.7183  48.1651      90     270     260     240\n",
       "2        Westport -124.1496  46.9009       0     180     210     330\n",
       "3       Fort Ebey -122.7736  48.2198       0     180     260     340"
      ]
     },
     "execution_count": 7,
     "metadata": {},
     "output_type": "execute_result"
    }
   ],
   "source": [
    "spots = pd.DataFrame({\n",
    "    \"name\":[\"Jordan River\", \"Crescent Beach\", \"Westport\", \"Fort Ebey\"],\n",
    "    \"lon\":[-124.0562, -123.7183, -124.1496, -122.7736],\n",
    "    \"lat\":[48.4195, 48.1651, 46.9009, 48.2198],\n",
    "    \"min_wd\":[270, 90, 0, 0],\n",
    "    \"max_wd\":[90, 270, 180, 180],\n",
    "    \"min_sd\":[260, 260, 210, 260],\n",
    "    \"max_sd\":[340, 240, 330, 340]})\n",
    "\n",
    "spots"
   ]
  },
  {
   "cell_type": "code",
   "execution_count": 8,
   "id": "ff4c3e28-bec3-4250-9eba-9148ac69c4bd",
   "metadata": {
    "tags": []
   },
   "outputs": [
    {
     "data": {
      "text/html": [
       "<div style=\"width:100%;\"><div style=\"position:relative;width:100%;height:0;padding-bottom:60%;\"><span style=\"color:#565656\">Make this Notebook Trusted to load map: File -> Trust Notebook</span><iframe srcdoc=\"&lt;!DOCTYPE html&gt;\n",
       "&lt;html&gt;\n",
       "&lt;head&gt;\n",
       "    \n",
       "    &lt;meta http-equiv=&quot;content-type&quot; content=&quot;text/html; charset=UTF-8&quot; /&gt;\n",
       "    \n",
       "        &lt;script&gt;\n",
       "            L_NO_TOUCH = false;\n",
       "            L_DISABLE_3D = false;\n",
       "        &lt;/script&gt;\n",
       "    \n",
       "    &lt;style&gt;html, body {width: 100%;height: 100%;margin: 0;padding: 0;}&lt;/style&gt;\n",
       "    &lt;style&gt;#map {position:absolute;top:0;bottom:0;right:0;left:0;}&lt;/style&gt;\n",
       "    &lt;script src=&quot;https://cdn.jsdelivr.net/npm/leaflet@1.9.3/dist/leaflet.js&quot;&gt;&lt;/script&gt;\n",
       "    &lt;script src=&quot;https://code.jquery.com/jquery-1.12.4.min.js&quot;&gt;&lt;/script&gt;\n",
       "    &lt;script src=&quot;https://cdn.jsdelivr.net/npm/bootstrap@5.2.2/dist/js/bootstrap.bundle.min.js&quot;&gt;&lt;/script&gt;\n",
       "    &lt;script src=&quot;https://cdnjs.cloudflare.com/ajax/libs/Leaflet.awesome-markers/2.0.2/leaflet.awesome-markers.js&quot;&gt;&lt;/script&gt;\n",
       "    &lt;link rel=&quot;stylesheet&quot; href=&quot;https://cdn.jsdelivr.net/npm/leaflet@1.9.3/dist/leaflet.css&quot;/&gt;\n",
       "    &lt;link rel=&quot;stylesheet&quot; href=&quot;https://cdn.jsdelivr.net/npm/bootstrap@5.2.2/dist/css/bootstrap.min.css&quot;/&gt;\n",
       "    &lt;link rel=&quot;stylesheet&quot; href=&quot;https://netdna.bootstrapcdn.com/bootstrap/3.0.0/css/bootstrap.min.css&quot;/&gt;\n",
       "    &lt;link rel=&quot;stylesheet&quot; href=&quot;https://cdn.jsdelivr.net/npm/@fortawesome/fontawesome-free@6.2.0/css/all.min.css&quot;/&gt;\n",
       "    &lt;link rel=&quot;stylesheet&quot; href=&quot;https://cdnjs.cloudflare.com/ajax/libs/Leaflet.awesome-markers/2.0.2/leaflet.awesome-markers.css&quot;/&gt;\n",
       "    &lt;link rel=&quot;stylesheet&quot; href=&quot;https://cdn.jsdelivr.net/gh/python-visualization/folium/folium/templates/leaflet.awesome.rotate.min.css&quot;/&gt;\n",
       "    \n",
       "            &lt;meta name=&quot;viewport&quot; content=&quot;width=device-width,\n",
       "                initial-scale=1.0, maximum-scale=1.0, user-scalable=no&quot; /&gt;\n",
       "            &lt;style&gt;\n",
       "                #map_bd518e07c0500ce3bca07f4b7d0ca237 {\n",
       "                    position: relative;\n",
       "                    width: 100.0%;\n",
       "                    height: 100.0%;\n",
       "                    left: 0.0%;\n",
       "                    top: 0.0%;\n",
       "                }\n",
       "                .leaflet-container { font-size: 1rem; }\n",
       "            &lt;/style&gt;\n",
       "        \n",
       "&lt;/head&gt;\n",
       "&lt;body&gt;\n",
       "    \n",
       "    \n",
       "            &lt;div class=&quot;folium-map&quot; id=&quot;map_bd518e07c0500ce3bca07f4b7d0ca237&quot; &gt;&lt;/div&gt;\n",
       "        \n",
       "&lt;/body&gt;\n",
       "&lt;script&gt;\n",
       "    \n",
       "    \n",
       "            var map_bd518e07c0500ce3bca07f4b7d0ca237 = L.map(\n",
       "                &quot;map_bd518e07c0500ce3bca07f4b7d0ca237&quot;,\n",
       "                {\n",
       "                    center: [48.5, -124.0],\n",
       "                    crs: L.CRS.EPSG3857,\n",
       "                    zoom: 9,\n",
       "                    zoomControl: true,\n",
       "                    preferCanvas: false,\n",
       "                }\n",
       "            );\n",
       "\n",
       "            \n",
       "\n",
       "        \n",
       "    \n",
       "            var tile_layer_03f3b324e25053b501290cc3e5a3839e = L.tileLayer(\n",
       "                &quot;https://{s}.tile.openstreetmap.org/{z}/{x}/{y}.png&quot;,\n",
       "                {&quot;attribution&quot;: &quot;Data by \\u0026copy; \\u003ca target=\\&quot;_blank\\&quot; href=\\&quot;http://openstreetmap.org\\&quot;\\u003eOpenStreetMap\\u003c/a\\u003e, under \\u003ca target=\\&quot;_blank\\&quot; href=\\&quot;http://www.openstreetmap.org/copyright\\&quot;\\u003eODbL\\u003c/a\\u003e.&quot;, &quot;detectRetina&quot;: false, &quot;maxNativeZoom&quot;: 18, &quot;maxZoom&quot;: 18, &quot;minZoom&quot;: 0, &quot;noWrap&quot;: false, &quot;opacity&quot;: 1, &quot;subdomains&quot;: &quot;abc&quot;, &quot;tms&quot;: false}\n",
       "            ).addTo(map_bd518e07c0500ce3bca07f4b7d0ca237);\n",
       "        \n",
       "&lt;/script&gt;\n",
       "&lt;/html&gt;\" style=\"position:absolute;width:100%;height:100%;left:0;top:0;border:none !important;\" allowfullscreen webkitallowfullscreen mozallowfullscreen></iframe></div></div>"
      ],
      "text/plain": [
       "<folium.folium.Map at 0x7f4df0142370>"
      ]
     },
     "execution_count": 8,
     "metadata": {},
     "output_type": "execute_result"
    }
   ],
   "source": [
    "min_lon, max_lon = -126, -122\n",
    "min_lat, max_lat = 48, 49\n",
    "\n",
    "m = folium.Map(\n",
    "    location=[(min_lat + max_lat) / 2, (min_lon + max_lon) / 2],\n",
    "    zoom_start=9,\n",
    ")\n",
    "\n",
    "m"
   ]
  }
 ],
 "metadata": {
  "kernelspec": {
   "display_name": "Python 3 (ipykernel)",
   "language": "python",
   "name": "python3"
  },
  "language_info": {
   "codemirror_mode": {
    "name": "ipython",
    "version": 3
   },
   "file_extension": ".py",
   "mimetype": "text/x-python",
   "name": "python",
   "nbconvert_exporter": "python",
   "pygments_lexer": "ipython3",
   "version": "3.9.16"
  }
 },
 "nbformat": 4,
 "nbformat_minor": 5
}
